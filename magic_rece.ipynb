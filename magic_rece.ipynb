{
 "cells": [
  {
   "cell_type": "code",
   "execution_count": 1,
   "metadata": {
    "collapsed": true
   },
   "outputs": [],
   "source": [
    "def reduce_mem_usage_colwise(col):\n",
    "    numerics = ['int16', 'int32', 'int64', 'float16', 'float32', 'float64']\n",
    "    col_type = col.dtypes\n",
    "    if col_type in numerics:\n",
    "        c_min = col.min()\n",
    "        c_max = col.max()\n",
    "        if str(col_type)[:3] == 'int':\n",
    "            if c_min > np.iinfo(np.int8).min and c_max < np.iinfo(np.int8).max:\n",
    "                col = col.astype(np.int8)\n",
    "            elif c_min > np.iinfo(np.int16).min and c_max < np.iinfo(np.int16).max:\n",
    "                col = col.astype(np.int16)\n",
    "            elif c_min > np.iinfo(np.int32).min and c_max < np.iinfo(np.int32).max:\n",
    "                col = col.astype(np.int32)\n",
    "            elif c_min > np.iinfo(np.int64).min and c_max < np.iinfo(np.int64).max:\n",
    "                col = col.astype(np.int64)  \n",
    "        else:\n",
    "            if c_min > np.finfo(np.float16).min and c_max < np.finfo(np.float16).max:\n",
    "                col = col.astype(np.float16)\n",
    "            elif c_min > np.finfo(np.float32).min and c_max < np.finfo(np.float32).max:\n",
    "                col = col.astype(np.float32)\n",
    "            else:\n",
    "                col = col.astype(np.float64)       \n",
    "    return col"
   ]
  },
  {
   "cell_type": "code",
   "execution_count": 2,
   "metadata": {
    "collapsed": true
   },
   "outputs": [],
   "source": [
    "import pandas as pd\n",
    "import matplotlib.pyplot as plt\n",
    "import numpy as np\n",
    "\n",
    "from sklearn.model_selection import KFold, StratifiedKFold, GroupKFold, train_test_split\n",
    "from sklearn.metrics import roc_auc_score\n",
    "\n",
    "import xgboost as xgb\n",
    "\n",
    "import multiprocessing as mp\n",
    "from functools import partial\n",
    "import gc\n",
    "from tqdm import tqdm\n",
    "import warnings\n",
    "warnings.simplefilter(action='ignore', category=FutureWarning)"
   ]
  },
  {
   "cell_type": "code",
   "execution_count": 3,
   "metadata": {},
   "outputs": [
    {
     "name": "stdout",
     "output_type": "stream",
     "text": [
      "CPU times: user 16.7 s, sys: 1.92 s, total: 18.6 s\n",
      "Wall time: 18.6 s\n"
     ]
    }
   ],
   "source": [
    "%%time\n",
    "DATA_PATH = 'Data/'\n",
    "OUTPUT_PATH = 'Output/'\n",
    "\n",
    "train = pd.read_csv(DATA_PATH + 'train_data.csv')\n",
    "train_labels = pd.read_csv(DATA_PATH + 'train_labels.csv')\n",
    "test = pd.read_csv(DATA_PATH + 'test_data.csv')\n",
    "sample_sub = pd.read_csv(DATA_PATH + 'Sample Submission.csv')"
   ]
  },
  {
   "cell_type": "code",
   "execution_count": 4,
   "metadata": {
    "collapsed": true
   },
   "outputs": [],
   "source": [
    "train = pd.merge(train, train_labels, on = 'patient_id', how='left')\n",
    "df = pd.concat([train, test])\n",
    "df = df.drop_duplicates()\n",
    "\n",
    "comp_train = train_labels.copy()\n",
    "comp_test = sample_sub.copy()"
   ]
  },
  {
   "cell_type": "code",
   "execution_count": 5,
   "metadata": {
    "collapsed": true
   },
   "outputs": [],
   "source": [
    "# Consider the data only for the last 6 months\n",
    "df = df[df['event_time'] < 180]"
   ]
  },
  {
   "cell_type": "code",
   "execution_count": 6,
   "metadata": {
    "collapsed": true
   },
   "outputs": [],
   "source": [
    "df['made_payment'] = pd.qcut(df['patient_payment'], 25000, duplicates='drop', labels=False).astype('str')"
   ]
  },
  {
   "cell_type": "code",
   "execution_count": 7,
   "metadata": {},
   "outputs": [
    {
     "name": "stdout",
     "output_type": "stream",
     "text": [
      "CPU times: user 5.33 s, sys: 780 ms, total: 6.11 s\n",
      "Wall time: 6.11 s\n"
     ]
    }
   ],
   "source": [
    "%%time\n",
    "for c in ['event_name', 'plan_type', 'specialty', 'made_payment']:\n",
    "    temp = df.groupby(['patient_id', c]).size().unstack().reset_index()\n",
    "    temp.columns = [col + '_size_' + c if col != 'patient_id' else 'patient_id' for col in temp.columns]\n",
    "    comp_train = pd.merge(comp_train, temp, on = 'patient_id', how='left')\n",
    "    comp_test = pd.merge(comp_test, temp, on = 'patient_id', how='left')"
   ]
  },
  {
   "cell_type": "code",
   "execution_count": 8,
   "metadata": {},
   "outputs": [
    {
     "name": "stdout",
     "output_type": "stream",
     "text": [
      "CPU times: user 12.1 s, sys: 1.34 s, total: 13.4 s\n",
      "Wall time: 13.4 s\n"
     ]
    }
   ],
   "source": [
    "%%time\n",
    "for c in ['event_name', 'plan_type', 'specialty', 'made_payment']:\n",
    "    temp = df.groupby(c).apply(lambda x: x.groupby('patient_id')['event_time'].min()).unstack().T.reset_index()\n",
    "    temp.columns = ['recency_' + col + '_' + c if col != 'patient_id' else 'patient_id' for col in temp.columns]\n",
    "    comp_train = pd.merge(comp_train, temp, on = 'patient_id', how='left')\n",
    "    comp_test = pd.merge(comp_test, temp, on = 'patient_id', how='left')"
   ]
  },
  {
   "cell_type": "code",
   "execution_count": 9,
   "metadata": {},
   "outputs": [
    {
     "name": "stdout",
     "output_type": "stream",
     "text": [
      "CPU times: user 15.6 s, sys: 2.32 s, total: 17.9 s\n",
      "Wall time: 17.9 s\n"
     ]
    }
   ],
   "source": [
    "%%time\n",
    "for c in ['event_name', 'plan_type', 'specialty', 'made_payment']:\n",
    "    temp = df.groupby(c).apply(lambda x: x.groupby('patient_id')['event_time'].nunique()).unstack().T.reset_index()\n",
    "    temp.columns = ['unique_event_time_' + col + '_' + c if col != 'patient_id' else 'patient_id' for col in temp.columns]\n",
    "    comp_train = pd.merge(comp_train, temp, on = 'patient_id', how='left')\n",
    "    comp_test = pd.merge(comp_test, temp, on = 'patient_id', how='left')"
   ]
  },
  {
   "cell_type": "code",
   "execution_count": 10,
   "metadata": {},
   "outputs": [
    {
     "name": "stdout",
     "output_type": "stream",
     "text": [
      "CPU times: user 7.17 s, sys: 1.21 s, total: 8.38 s\n",
      "Wall time: 8.38 s\n"
     ]
    }
   ],
   "source": [
    "%%time\n",
    "for c in ['event_name', 'plan_type', 'specialty']:\n",
    "    payment = df.groupby(c).apply(lambda x: x.groupby('patient_id')['patient_payment'].sum()).unstack().T.reset_index()\n",
    "    payment.columns = [col + '_total_payment_' + c if col != 'patient_id' else 'patient_id' for col in payment.columns]\n",
    "    comp_train = pd.merge(comp_train, payment, on = 'patient_id', how='left')\n",
    "    comp_test = pd.merge(comp_test, payment, on = 'patient_id', how='left')"
   ]
  },
  {
   "cell_type": "code",
   "execution_count": 11,
   "metadata": {},
   "outputs": [
    {
     "name": "stdout",
     "output_type": "stream",
     "text": [
      "CPU times: user 7.23 s, sys: 1.2 s, total: 8.43 s\n",
      "Wall time: 8.42 s\n"
     ]
    }
   ],
   "source": [
    "%%time\n",
    "for c in ['event_name', 'plan_type', 'specialty']:\n",
    "    payment = df.groupby(c).apply(lambda x: x.groupby('patient_id')['patient_payment'].mean()).unstack().T.reset_index()\n",
    "    payment.columns = [col + '_mean_payment_' + c if col != 'patient_id' else 'patient_id' for col in payment.columns]\n",
    "    comp_train = pd.merge(comp_train, payment, on = 'patient_id', how='left')\n",
    "    comp_test = pd.merge(comp_test, payment, on = 'patient_id', how='left')"
   ]
  },
  {
   "cell_type": "code",
   "execution_count": 12,
   "metadata": {},
   "outputs": [
    {
     "name": "stdout",
     "output_type": "stream",
     "text": [
      "CPU times: user 7.38 s, sys: 1.33 s, total: 8.72 s\n",
      "Wall time: 8.71 s\n"
     ]
    }
   ],
   "source": [
    "%%time\n",
    "for c in ['event_name', 'plan_type', 'specialty']:\n",
    "    payment = df.groupby(c).apply(lambda x: x.groupby('patient_id')['patient_payment'].max()).unstack().T.reset_index()\n",
    "    payment.columns = [col + '_max_payment_' + c if col != 'patient_id' else 'patient_id' for col in payment.columns]\n",
    "    comp_train = pd.merge(comp_train, payment, on = 'patient_id', how='left')\n",
    "    comp_test = pd.merge(comp_test, payment, on = 'patient_id', how='left')"
   ]
  },
  {
   "cell_type": "code",
   "execution_count": 13,
   "metadata": {
    "collapsed": true
   },
   "outputs": [],
   "source": [
    "comp_train = comp_train.apply(lambda x: reduce_mem_usage_colwise(x))\n",
    "comp_test = comp_test.apply(lambda x: reduce_mem_usage_colwise(x))"
   ]
  },
  {
   "cell_type": "code",
   "execution_count": 14,
   "metadata": {},
   "outputs": [
    {
     "data": {
      "text/plain": [
       "0"
      ]
     },
     "execution_count": 14,
     "metadata": {},
     "output_type": "execute_result"
    }
   ],
   "source": [
    "del train, test, df, temp, payment\n",
    "gc.collect()"
   ]
  },
  {
   "cell_type": "code",
   "execution_count": 15,
   "metadata": {},
   "outputs": [
    {
     "data": {
      "text/plain": [
       "10394"
      ]
     },
     "execution_count": 15,
     "metadata": {},
     "output_type": "execute_result"
    }
   ],
   "source": [
    "train, test = comp_train, comp_test\n",
    "ID_COL, TARGET_COL = 'patient_id', 'outcome_flag'\n",
    "target = train[TARGET_COL]\n",
    "features = [c for c in train if c not in [ID_COL, TARGET_COL]]\n",
    "features = train[features].isnull().sum().sort_values(ascending=False)[250:].index.tolist()\n",
    "len(features)"
   ]
  },
  {
   "cell_type": "code",
   "execution_count": 16,
   "metadata": {},
   "outputs": [
    {
     "data": {
      "text/plain": [
       "0"
      ]
     },
     "execution_count": 16,
     "metadata": {},
     "output_type": "execute_result"
    }
   ],
   "source": [
    "params = {\n",
    "    'learning_rate': 0.01,\n",
    "    'max_depth': 4,\n",
    "    'colsample_bytree':.3,\n",
    "    'objective': 'binary:logistic',\n",
    "    'eval_metric': 'auc',\n",
    "    'nthread': 4,\n",
    "    'silent': 1,\n",
    "    \"lambda\": 5,\n",
    "    \"lambda_l2\":5,\n",
    "    'scale_pos_weight': 1,\n",
    "    'grow_policy': 'lossguide',\n",
    "    'max_leaves': 50,\n",
    "    'tree_method': 'exact',\n",
    "    'alpha': 0.5,\n",
    "    'colsample_bynode': 0.3\n",
    "}\n",
    "gc.collect()"
   ]
  },
  {
   "cell_type": "code",
   "execution_count": 17,
   "metadata": {},
   "outputs": [
    {
     "name": "stdout",
     "output_type": "stream",
     "text": [
      "fold n°0\n",
      "[0]\ttrain-auc:0.686532\tval-auc:0.679817\n",
      "Multiple eval metrics have been passed: 'val-auc' will be used for early stopping.\n",
      "\n",
      "Will train until val-auc hasn't improved in 800 rounds.\n",
      "[400]\ttrain-auc:0.853191\tval-auc:0.837027\n",
      "[800]\ttrain-auc:0.88649\tval-auc:0.857536\n",
      "[1200]\ttrain-auc:0.905444\tval-auc:0.864859\n",
      "[1600]\ttrain-auc:0.918911\tval-auc:0.868284\n",
      "[2000]\ttrain-auc:0.929382\tval-auc:0.869755\n",
      "[2400]\ttrain-auc:0.937507\tval-auc:0.870772\n",
      "[2800]\ttrain-auc:0.944407\tval-auc:0.871664\n",
      "[3200]\ttrain-auc:0.950201\tval-auc:0.872386\n",
      "[3600]\ttrain-auc:0.955139\tval-auc:0.872994\n",
      "[4000]\ttrain-auc:0.959533\tval-auc:0.873171\n",
      "[4400]\ttrain-auc:0.963349\tval-auc:0.873616\n",
      "[4800]\ttrain-auc:0.96661\tval-auc:0.873252\n",
      "[5200]\ttrain-auc:0.969515\tval-auc:0.87314\n",
      "Stopping. Best iteration:\n",
      "[4412]\ttrain-auc:0.963447\tval-auc:0.873722\n",
      "\n",
      "fold n°1\n",
      "[0]\ttrain-auc:0.683774\tval-auc:0.683527\n",
      "Multiple eval metrics have been passed: 'val-auc' will be used for early stopping.\n",
      "\n",
      "Will train until val-auc hasn't improved in 800 rounds.\n",
      "[400]\ttrain-auc:0.853608\tval-auc:0.839091\n",
      "[800]\ttrain-auc:0.885312\tval-auc:0.854087\n",
      "[1200]\ttrain-auc:0.903502\tval-auc:0.857954\n",
      "[1600]\ttrain-auc:0.91709\tval-auc:0.860858\n",
      "[2000]\ttrain-auc:0.927252\tval-auc:0.862099\n",
      "[2400]\ttrain-auc:0.93574\tval-auc:0.862225\n",
      "[2800]\ttrain-auc:0.94234\tval-auc:0.862529\n",
      "Stopping. Best iteration:\n",
      "[2335]\ttrain-auc:0.934452\tval-auc:0.86262\n",
      "\n",
      "fold n°2\n",
      "[0]\ttrain-auc:0.696236\tval-auc:0.687924\n",
      "Multiple eval metrics have been passed: 'val-auc' will be used for early stopping.\n",
      "\n",
      "Will train until val-auc hasn't improved in 800 rounds.\n",
      "[400]\ttrain-auc:0.856523\tval-auc:0.812595\n",
      "[800]\ttrain-auc:0.888646\tval-auc:0.835961\n",
      "[1200]\ttrain-auc:0.906944\tval-auc:0.84503\n",
      "[1600]\ttrain-auc:0.920232\tval-auc:0.847845\n",
      "[2000]\ttrain-auc:0.930306\tval-auc:0.849822\n",
      "[2400]\ttrain-auc:0.938132\tval-auc:0.851164\n",
      "[2800]\ttrain-auc:0.944788\tval-auc:0.851777\n",
      "[3200]\ttrain-auc:0.950385\tval-auc:0.852115\n",
      "[3600]\ttrain-auc:0.955153\tval-auc:0.852322\n",
      "[4000]\ttrain-auc:0.959366\tval-auc:0.852428\n",
      "[4400]\ttrain-auc:0.963063\tval-auc:0.851895\n",
      "Stopping. Best iteration:\n",
      "[3632]\ttrain-auc:0.955543\tval-auc:0.852574\n",
      "\n",
      "fold n°3\n",
      "[0]\ttrain-auc:0.684661\tval-auc:0.636359\n",
      "Multiple eval metrics have been passed: 'val-auc' will be used for early stopping.\n",
      "\n",
      "Will train until val-auc hasn't improved in 800 rounds.\n",
      "[400]\ttrain-auc:0.856664\tval-auc:0.796973\n",
      "[800]\ttrain-auc:0.889077\tval-auc:0.817631\n",
      "[1200]\ttrain-auc:0.90791\tval-auc:0.825975\n",
      "[1600]\ttrain-auc:0.920976\tval-auc:0.82905\n",
      "[2000]\ttrain-auc:0.931201\tval-auc:0.830968\n",
      "[2400]\ttrain-auc:0.938888\tval-auc:0.832507\n",
      "[2800]\ttrain-auc:0.945209\tval-auc:0.832656\n",
      "[3200]\ttrain-auc:0.950536\tval-auc:0.832759\n",
      "[3600]\ttrain-auc:0.955229\tval-auc:0.832934\n",
      "[4000]\ttrain-auc:0.959424\tval-auc:0.832424\n",
      "Stopping. Best iteration:\n",
      "[3350]\ttrain-auc:0.952366\tval-auc:0.833043\n",
      "\n",
      "fold n°4\n",
      "[0]\ttrain-auc:0.684989\tval-auc:0.682861\n",
      "Multiple eval metrics have been passed: 'val-auc' will be used for early stopping.\n",
      "\n",
      "Will train until val-auc hasn't improved in 800 rounds.\n",
      "[400]\ttrain-auc:0.856952\tval-auc:0.803184\n",
      "[800]\ttrain-auc:0.888338\tval-auc:0.825889\n",
      "[1200]\ttrain-auc:0.906969\tval-auc:0.833464\n",
      "[1600]\ttrain-auc:0.920304\tval-auc:0.836471\n",
      "[2000]\ttrain-auc:0.930405\tval-auc:0.838219\n",
      "[2400]\ttrain-auc:0.938137\tval-auc:0.839062\n",
      "[2800]\ttrain-auc:0.944524\tval-auc:0.839151\n",
      "[3200]\ttrain-auc:0.950127\tval-auc:0.839509\n",
      "[3600]\ttrain-auc:0.955226\tval-auc:0.839825\n",
      "[4000]\ttrain-auc:0.959498\tval-auc:0.840335\n",
      "[4400]\ttrain-auc:0.963281\tval-auc:0.840306\n",
      "[4800]\ttrain-auc:0.966673\tval-auc:0.840498\n",
      "[5200]\ttrain-auc:0.969762\tval-auc:0.840739\n",
      "[5600]\ttrain-auc:0.972447\tval-auc:0.840627\n",
      "[6000]\ttrain-auc:0.974871\tval-auc:0.840576\n",
      "Stopping. Best iteration:\n",
      "[5240]\ttrain-auc:0.970058\tval-auc:0.840894\n",
      "\n",
      "fold n°5\n",
      "[0]\ttrain-auc:0.68129\tval-auc:0.665209\n",
      "Multiple eval metrics have been passed: 'val-auc' will be used for early stopping.\n",
      "\n",
      "Will train until val-auc hasn't improved in 800 rounds.\n",
      "[400]\ttrain-auc:0.858045\tval-auc:0.799828\n",
      "[800]\ttrain-auc:0.889094\tval-auc:0.816031\n",
      "[1200]\ttrain-auc:0.907443\tval-auc:0.822438\n",
      "[1600]\ttrain-auc:0.920956\tval-auc:0.82635\n",
      "[2000]\ttrain-auc:0.930961\tval-auc:0.828299\n",
      "[2400]\ttrain-auc:0.938971\tval-auc:0.82911\n",
      "[2800]\ttrain-auc:0.945528\tval-auc:0.829887\n",
      "[3200]\ttrain-auc:0.951158\tval-auc:0.829689\n",
      "[3600]\ttrain-auc:0.955992\tval-auc:0.829706\n",
      "Stopping. Best iteration:\n",
      "[2952]\ttrain-auc:0.947897\tval-auc:0.830059\n",
      "\n",
      "fold n°6\n",
      "[0]\ttrain-auc:0.671423\tval-auc:0.704417\n",
      "Multiple eval metrics have been passed: 'val-auc' will be used for early stopping.\n",
      "\n",
      "Will train until val-auc hasn't improved in 800 rounds.\n",
      "[400]\ttrain-auc:0.857061\tval-auc:0.807819\n",
      "[800]\ttrain-auc:0.888603\tval-auc:0.824616\n",
      "[1200]\ttrain-auc:0.906806\tval-auc:0.828305\n",
      "[1600]\ttrain-auc:0.920131\tval-auc:0.829524\n",
      "[2000]\ttrain-auc:0.929962\tval-auc:0.830921\n",
      "[2400]\ttrain-auc:0.937779\tval-auc:0.831827\n",
      "[2800]\ttrain-auc:0.944333\tval-auc:0.832627\n",
      "[3200]\ttrain-auc:0.949953\tval-auc:0.833198\n",
      "[3600]\ttrain-auc:0.954952\tval-auc:0.833293\n",
      "[4000]\ttrain-auc:0.95916\tval-auc:0.833798\n",
      "[4400]\ttrain-auc:0.96285\tval-auc:0.834216\n",
      "[4800]\ttrain-auc:0.966091\tval-auc:0.834067\n",
      "[5200]\ttrain-auc:0.969063\tval-auc:0.834331\n",
      "[5600]\ttrain-auc:0.971662\tval-auc:0.834248\n",
      "[6000]\ttrain-auc:0.97395\tval-auc:0.834242\n",
      "Stopping. Best iteration:\n",
      "[5267]\ttrain-auc:0.969533\tval-auc:0.834495\n",
      "\n",
      "fold n°7\n",
      "[0]\ttrain-auc:0.690347\tval-auc:0.640881\n",
      "Multiple eval metrics have been passed: 'val-auc' will be used for early stopping.\n",
      "\n",
      "Will train until val-auc hasn't improved in 800 rounds.\n",
      "[400]\ttrain-auc:0.856875\tval-auc:0.786571\n",
      "[800]\ttrain-auc:0.88892\tval-auc:0.809618\n",
      "[1200]\ttrain-auc:0.907646\tval-auc:0.819903\n",
      "[1600]\ttrain-auc:0.920656\tval-auc:0.825424\n",
      "[2000]\ttrain-auc:0.93051\tval-auc:0.829447\n",
      "[2400]\ttrain-auc:0.938385\tval-auc:0.832771\n",
      "[2800]\ttrain-auc:0.944634\tval-auc:0.83536\n",
      "[3200]\ttrain-auc:0.949985\tval-auc:0.83733\n",
      "[3600]\ttrain-auc:0.954794\tval-auc:0.839113\n",
      "[4000]\ttrain-auc:0.958998\tval-auc:0.840858\n",
      "[4400]\ttrain-auc:0.962714\tval-auc:0.842336\n",
      "[4800]\ttrain-auc:0.966067\tval-auc:0.843623\n",
      "[5200]\ttrain-auc:0.968871\tval-auc:0.844395\n",
      "[5600]\ttrain-auc:0.971371\tval-auc:0.844473\n",
      "[6000]\ttrain-auc:0.973749\tval-auc:0.845031\n",
      "[6400]\ttrain-auc:0.975847\tval-auc:0.845167\n",
      "[6800]\ttrain-auc:0.977796\tval-auc:0.845671\n",
      "[7200]\ttrain-auc:0.979631\tval-auc:0.845728\n",
      "[7600]\ttrain-auc:0.981242\tval-auc:0.845936\n",
      "[8000]\ttrain-auc:0.982711\tval-auc:0.846209\n",
      "[8400]\ttrain-auc:0.984043\tval-auc:0.846417\n",
      "[8800]\ttrain-auc:0.985314\tval-auc:0.846489\n",
      "[9200]\ttrain-auc:0.986481\tval-auc:0.846823\n",
      "[9600]\ttrain-auc:0.987547\tval-auc:0.846828\n",
      "[10000]\ttrain-auc:0.988513\tval-auc:0.84652\n",
      "Stopping. Best iteration:\n",
      "[9507]\ttrain-auc:0.987308\tval-auc:0.846955\n",
      "\n",
      "fold n°8\n",
      "[0]\ttrain-auc:0.673203\tval-auc:0.688949\n",
      "Multiple eval metrics have been passed: 'val-auc' will be used for early stopping.\n",
      "\n",
      "Will train until val-auc hasn't improved in 800 rounds.\n",
      "[400]\ttrain-auc:0.855214\tval-auc:0.840366\n",
      "[800]\ttrain-auc:0.887491\tval-auc:0.855287\n",
      "[1200]\ttrain-auc:0.906285\tval-auc:0.859527\n",
      "[1600]\ttrain-auc:0.919271\tval-auc:0.861966\n",
      "[2000]\ttrain-auc:0.929089\tval-auc:0.863775\n",
      "[2400]\ttrain-auc:0.936848\tval-auc:0.864794\n",
      "[2800]\ttrain-auc:0.943328\tval-auc:0.865883\n",
      "[3200]\ttrain-auc:0.949015\tval-auc:0.866502\n",
      "[3600]\ttrain-auc:0.953995\tval-auc:0.866845\n",
      "[4000]\ttrain-auc:0.958221\tval-auc:0.867245\n",
      "[4400]\ttrain-auc:0.962156\tval-auc:0.867574\n",
      "[4800]\ttrain-auc:0.965625\tval-auc:0.867482\n",
      "[5200]\ttrain-auc:0.968589\tval-auc:0.867047\n",
      "Stopping. Best iteration:\n",
      "[4568]\ttrain-auc:0.96372\tval-auc:0.867819\n",
      "\n",
      "fold n°9\n",
      "[0]\ttrain-auc:0.682061\tval-auc:0.626308\n",
      "Multiple eval metrics have been passed: 'val-auc' will be used for early stopping.\n",
      "\n",
      "Will train until val-auc hasn't improved in 800 rounds.\n",
      "[400]\ttrain-auc:0.858577\tval-auc:0.795828\n",
      "[800]\ttrain-auc:0.890739\tval-auc:0.815217\n",
      "[1200]\ttrain-auc:0.908908\tval-auc:0.824061\n",
      "[1600]\ttrain-auc:0.922191\tval-auc:0.829234\n",
      "[2000]\ttrain-auc:0.932238\tval-auc:0.83214\n",
      "[2400]\ttrain-auc:0.940407\tval-auc:0.834087\n",
      "[2800]\ttrain-auc:0.946859\tval-auc:0.835167\n",
      "[3200]\ttrain-auc:0.952373\tval-auc:0.836074\n",
      "[3600]\ttrain-auc:0.957125\tval-auc:0.836835\n",
      "[4000]\ttrain-auc:0.961236\tval-auc:0.837673\n",
      "[4400]\ttrain-auc:0.965062\tval-auc:0.838102\n",
      "[4800]\ttrain-auc:0.968425\tval-auc:0.838246\n",
      "[5200]\ttrain-auc:0.971271\tval-auc:0.838764\n",
      "[5600]\ttrain-auc:0.97392\tval-auc:0.839136\n",
      "[6000]\ttrain-auc:0.976314\tval-auc:0.838934\n",
      "[6400]\ttrain-auc:0.978469\tval-auc:0.838704\n",
      "Stopping. Best iteration:\n",
      "[5658]\ttrain-auc:0.974286\tval-auc:0.83919\n",
      "\n",
      "CV score: 0.84746 \n"
     ]
    }
   ],
   "source": [
    "max_iter = 10\n",
    "folds = StratifiedKFold(n_splits=10, random_state=1991)\n",
    "oof = np.zeros(len(train))\n",
    "predictions = np.zeros(len(test))\n",
    "feature_importance_df = pd.DataFrame()\n",
    "\n",
    "for fold_, (trn_idx, val_idx) in enumerate(folds.split(train.values, target.values)):\n",
    "    print(\"fold n°{}\".format(fold_))\n",
    "    X_trn, y_trn = train.iloc[trn_idx][features], target.iloc[trn_idx]\n",
    "    X_val, y_val = train.iloc[val_idx][features], target.iloc[val_idx]\n",
    "    X_trn = xgb.DMatrix(X_trn, label=y_trn)\n",
    "    X_val = xgb.DMatrix(X_val, label=y_val)\n",
    "    X_test = xgb.DMatrix(test[features])\n",
    "    clf = xgb.train(params, X_trn, 50000, [(X_trn,'train'),(X_val,'val')], verbose_eval = 400, early_stopping_rounds=800)\n",
    "    gc.collect()\n",
    "    oof[val_idx] = clf.predict(X_val)\n",
    "    \n",
    "    fold_importance_df = pd.DataFrame({\"importance\": clf.get_fscore(), \"fold\": fold_ + 1}).reset_index().rename({'index': 'feature'}, axis=1)\n",
    "    feature_importance_df = pd.concat([feature_importance_df, fold_importance_df], axis=0)\n",
    "\n",
    "    current_pred = clf.predict(X_test)\n",
    "    predictions += current_pred / min(folds.n_splits, max_iter)\n",
    "\n",
    "\n",
    "print(\"CV score: {:<8.5f}\".format(roc_auc_score(target, oof)))"
   ]
  },
  {
   "cell_type": "code",
   "execution_count": 18,
   "metadata": {},
   "outputs": [
    {
     "name": "stdout",
     "output_type": "stream",
     "text": [
      "CV score: 0.84746 \n"
     ]
    }
   ],
   "source": [
    "print(\"CV score: {:<8.5f}\".format(roc_auc_score(target, oof)))"
   ]
  },
  {
   "cell_type": "code",
   "execution_count": 19,
   "metadata": {},
   "outputs": [
    {
     "data": {
      "text/plain": [
       "<matplotlib.axes._subplots.AxesSubplot at 0x7f3b80380da0>"
      ]
     },
     "execution_count": 19,
     "metadata": {},
     "output_type": "execute_result"
    },
    {
     "data": {
      "image/png": "[encoded data removed]",
      "text/plain": [
       "<Figure size 720x720 with 1 Axes>"
      ]
     },
     "metadata": {
      "needs_background": "light"
     },
     "output_type": "display_data"
    }
   ],
   "source": [
    "fi = feature_importance_df.groupby('feature')['importance'].mean().sort_values()\n",
    "plt.figure(figsize=(10,10))\n",
    "fi[-20:].plot.barh(fontsize=14)"
   ]
  },
  {
   "cell_type": "code",
   "execution_count": 20,
   "metadata": {},
   "outputs": [
    {
     "name": "stdout",
     "output_type": "stream",
     "text": [
      "Total no. of useful features are: 2690\n"
     ]
    }
   ],
   "source": [
    "print(f\"Total no. of useful features are: {(fi != 0).sum()}\")"
   ]
  },
  {
   "cell_type": "code",
   "execution_count": 21,
   "metadata": {},
   "outputs": [
    {
     "data": {
      "image/png": "[encoded data removed]",
      "text/plain": [
       "<Figure size 432x288 with 1 Axes>"
      ]
     },
     "metadata": {
      "needs_background": "light"
     },
     "output_type": "display_data"
    }
   ],
   "source": [
    "_ = pd.Series(predictions).plot(kind='density')"
   ]
  },
  {
   "cell_type": "code",
   "execution_count": 22,
   "metadata": {
    "collapsed": true
   },
   "outputs": [],
   "source": [
    "oof_df = pd.DataFrame()\n",
    "oof_df['patient_id'] = comp_train['patient_id']\n",
    "oof_df[TARGET_COL] = oof\n",
    "oof_df.to_csv(OUTPUT_PATH + 'oofs_xgb_2.csv', index=False)"
   ]
  },
  {
   "cell_type": "code",
   "execution_count": 23,
   "metadata": {},
   "outputs": [
    {
     "data": {
      "text/html": [
       "<div>\n",
       "<style scoped>\n",
       "    .dataframe tbody tr th:only-of-type {\n",
       "        vertical-align: middle;\n",
       "    }\n",
       "\n",
       "    .dataframe tbody tr th {\n",
       "        vertical-align: top;\n",
       "    }\n",
       "\n",
       "    .dataframe thead th {\n",
       "        text-align: right;\n",
       "    }\n",
       "</style>\n",
       "<table border=\"1\" class=\"dataframe\">\n",
       "  <thead>\n",
       "    <tr style=\"text-align: right;\">\n",
       "      <th></th>\n",
       "      <th>patient_id</th>\n",
       "      <th>outcome_flag</th>\n",
       "    </tr>\n",
       "  </thead>\n",
       "  <tbody>\n",
       "    <tr>\n",
       "      <th>0</th>\n",
       "      <td>patient_2</td>\n",
       "      <td>0.083744</td>\n",
       "    </tr>\n",
       "    <tr>\n",
       "      <th>1</th>\n",
       "      <td>patient_3</td>\n",
       "      <td>0.115366</td>\n",
       "    </tr>\n",
       "    <tr>\n",
       "      <th>2</th>\n",
       "      <td>patient_5</td>\n",
       "      <td>0.619801</td>\n",
       "    </tr>\n",
       "    <tr>\n",
       "      <th>3</th>\n",
       "      <td>patient_8</td>\n",
       "      <td>0.013233</td>\n",
       "    </tr>\n",
       "    <tr>\n",
       "      <th>4</th>\n",
       "      <td>patient_14</td>\n",
       "      <td>0.312857</td>\n",
       "    </tr>\n",
       "    <tr>\n",
       "      <th>5</th>\n",
       "      <td>patient_15</td>\n",
       "      <td>0.044436</td>\n",
       "    </tr>\n",
       "    <tr>\n",
       "      <th>6</th>\n",
       "      <td>patient_16</td>\n",
       "      <td>0.015750</td>\n",
       "    </tr>\n",
       "    <tr>\n",
       "      <th>7</th>\n",
       "      <td>patient_33</td>\n",
       "      <td>0.154302</td>\n",
       "    </tr>\n",
       "    <tr>\n",
       "      <th>8</th>\n",
       "      <td>patient_38</td>\n",
       "      <td>0.049512</td>\n",
       "    </tr>\n",
       "    <tr>\n",
       "      <th>9</th>\n",
       "      <td>patient_41</td>\n",
       "      <td>0.144371</td>\n",
       "    </tr>\n",
       "  </tbody>\n",
       "</table>\n",
       "</div>"
      ],
      "text/plain": [
       "   patient_id  outcome_flag\n",
       "0   patient_2      0.083744\n",
       "1   patient_3      0.115366\n",
       "2   patient_5      0.619801\n",
       "3   patient_8      0.013233\n",
       "4  patient_14      0.312857\n",
       "5  patient_15      0.044436\n",
       "6  patient_16      0.015750\n",
       "7  patient_33      0.154302\n",
       "8  patient_38      0.049512\n",
       "9  patient_41      0.144371"
      ]
     },
     "execution_count": 23,
     "metadata": {},
     "output_type": "execute_result"
    }
   ],
   "source": [
    "sub_df = pd.DataFrame()\n",
    "sub_df[ID_COL] = comp_test[ID_COL]\n",
    "sub_df[TARGET_COL] = predictions\n",
    "sub_df[[TARGET_COL]].to_excel(OUTPUT_PATH + 'preds_xgb_2.xlsx', index=False)\n",
    "sub_df.head(10)"
   ]
  },
  {
   "cell_type": "code",
   "execution_count": 24,
   "metadata": {},
   "outputs": [
    {
     "name": "stdout",
     "output_type": "stream",
     "text": [
      "DONE-------------- !!!\n"
     ]
    }
   ],
   "source": [
    "print(\"DONE-------------- !!!\")"
   ]
  }
 ],
 "metadata": {
  "kernelspec": {
   "display_name": "Python 3",
   "language": "python",
   "name": "python3"
  },
  "language_info": {
   "codemirror_mode": {
    "name": "ipython",
    "version": 3
   },
   "file_extension": ".py",
   "mimetype": "text/x-python",
   "name": "python",
   "nbconvert_exporter": "python",
   "pygments_lexer": "ipython3",
   "version": "3.6.3"
  }
 },
 "nbformat": 4,
 "nbformat_minor": 1
}
