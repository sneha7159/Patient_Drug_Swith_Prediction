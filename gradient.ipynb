{
 "cells": [
  {
   "cell_type": "code",
   "execution_count": 1,
   "metadata": {
    "collapsed": true
   },
   "outputs": [],
   "source": [
    "def reduce_mem_usage_colwise(col):\n",
    "    numerics = ['int16', 'int32', 'int64', 'float16', 'float32', 'float64']\n",
    "    col_type = col.dtypes\n",
    "    if col_type in numerics:\n",
    "        c_min = col.min()\n",
    "        c_max = col.max()\n",
    "        if str(col_type)[:3] == 'int':\n",
    "            if c_min > np.iinfo(np.int8).min and c_max < np.iinfo(np.int8).max:\n",
    "                col = col.astype(np.int8)\n",
    "            elif c_min > np.iinfo(np.int16).min and c_max < np.iinfo(np.int16).max:\n",
    "                col = col.astype(np.int16)\n",
    "            elif c_min > np.iinfo(np.int32).min and c_max < np.iinfo(np.int32).max:\n",
    "                col = col.astype(np.int32)\n",
    "            elif c_min > np.iinfo(np.int64).min and c_max < np.iinfo(np.int64).max:\n",
    "                col = col.astype(np.int64)  \n",
    "        else:\n",
    "            if c_min > np.finfo(np.float16).min and c_max < np.finfo(np.float16).max:\n",
    "                col = col.astype(np.float16)\n",
    "            elif c_min > np.finfo(np.float32).min and c_max < np.finfo(np.float32).max:\n",
    "                col = col.astype(np.float32)\n",
    "            else:\n",
    "                col = col.astype(np.float64)       \n",
    "    return col"
   ]
  },
  {
   "cell_type": "code",
   "execution_count": 2,
   "metadata": {
    "collapsed": true
   },
   "outputs": [],
   "source": [
    "import pandas as pd\n",
    "import matplotlib.pyplot as plt\n",
    "import numpy as np\n",
    "\n",
    "from sklearn.model_selection import StratifiedKFold\n",
    "from sklearn.metrics import roc_auc_score\n",
    "\n",
    "import lightgbm as lgb\n",
    "\n",
    "import multiprocessing as mp\n",
    "from functools import partial\n",
    "import gc\n",
    "import time\n",
    "\n",
    "import warnings\n",
    "warnings.simplefilter(action='ignore', category=FutureWarning)"
   ]
  },
  {
   "cell_type": "code",
   "execution_count": 3,
   "metadata": {},
   "outputs": [
    {
     "name": "stdout",
     "output_type": "stream",
     "text": [
      "CPU times: user 19 s, sys: 2.16 s, total: 21.2 s\n",
      "Wall time: 21.6 s\n"
     ]
    }
   ],
   "source": [
    "%%time\n",
    "DATA_PATH = 'Data/'\n",
    "OUTPUT_PATH = 'Output/'\n",
    "\n",
    "oof_prev = pd.read_csv(OUTPUT_PATH + 'oofs_lgbm.csv')\n",
    "preds_prev = pd.read_excel(OUTPUT_PATH + 'preds_lgbm.xlsx')\n",
    "\n",
    "train = pd.read_csv(DATA_PATH + 'train_data.csv')\n",
    "train_labels = pd.read_csv(DATA_PATH + 'train_labels.csv')\n",
    "test = pd.read_csv(DATA_PATH + 'test_data.csv')\n",
    "sample_sub = pd.read_csv(DATA_PATH + 'Sample Submission.csv')"
   ]
  },
  {
   "cell_type": "code",
   "execution_count": 4,
   "metadata": {
    "collapsed": true
   },
   "outputs": [],
   "source": [
    "train = pd.merge(train, train_labels, on = 'patient_id', how='left')\n",
    "df = pd.concat([train, test])\n",
    "df = df.drop_duplicates()\n",
    "comp_train = train_labels.copy()\n",
    "comp_test = sample_sub.copy()"
   ]
  },
  {
   "cell_type": "code",
   "execution_count": 5,
   "metadata": {
    "collapsed": true
   },
   "outputs": [],
   "source": [
    "df['made_payment'] = pd.qcut(df['patient_payment'], 400, duplicates='drop', labels=False).astype('str')"
   ]
  },
  {
   "cell_type": "code",
   "execution_count": 6,
   "metadata": {},
   "outputs": [
    {
     "name": "stdout",
     "output_type": "stream",
     "text": [
      "CPU times: user 29 s, sys: 2.64 s, total: 31.6 s\n",
      "Wall time: 31.6 s\n"
     ]
    }
   ],
   "source": [
    "%%time\n",
    "for c in ['event_name', 'plan_type', 'specialty', 'made_payment']:\n",
    "    recency = df.groupby(c).apply(lambda x: x.groupby('patient_id')['event_time'].min()).unstack().T.reset_index()\n",
    "    recency.columns = [col + '_' + c if col != 'patient_id' else 'patient_id' for col in recency.columns]\n",
    "    comp_train = pd.merge(comp_train, recency, on = 'patient_id', how='left')\n",
    "    comp_test = pd.merge(comp_test, recency, on = 'patient_id', how='left')"
   ]
  },
  {
   "cell_type": "code",
   "execution_count": 7,
   "metadata": {
    "collapsed": true
   },
   "outputs": [],
   "source": [
    "comp_train['prev_preds'] = oof_prev['outcome_flag']\n",
    "comp_test['prev_preds'] = preds_prev['outcome_flag']"
   ]
  },
  {
   "cell_type": "code",
   "execution_count": 8,
   "metadata": {
    "collapsed": true
   },
   "outputs": [],
   "source": [
    "comp_train = comp_train.apply(lambda x: reduce_mem_usage_colwise(x))\n",
    "comp_test = comp_test.apply(lambda x: reduce_mem_usage_colwise(x))"
   ]
  },
  {
   "cell_type": "code",
   "execution_count": 9,
   "metadata": {},
   "outputs": [
    {
     "data": {
      "text/plain": [
       "14350"
      ]
     },
     "execution_count": 9,
     "metadata": {},
     "output_type": "execute_result"
    }
   ],
   "source": [
    "del train, test, df, recency, oof_prev, preds_prev, train_labels, sample_sub\n",
    "gc.collect()"
   ]
  },
  {
   "cell_type": "code",
   "execution_count": 10,
   "metadata": {},
   "outputs": [
    {
     "name": "stdout",
     "output_type": "stream",
     "text": [
      "438\n"
     ]
    },
    {
     "data": {
      "text/plain": [
       "439"
      ]
     },
     "execution_count": 10,
     "metadata": {},
     "output_type": "execute_result"
    }
   ],
   "source": [
    "ID_COL, TARGET_COL = 'patient_id', 'outcome_flag'\n",
    "features = [c for c in comp_train if c not in [ID_COL, TARGET_COL]]\n",
    "target = comp_train[TARGET_COL]\n",
    "features = comp_train[features].isnull().sum().sort_values(ascending=False)[420:].index.tolist()\n",
    "print(len(features))\n",
    "to_drop_cols = [c for c in comp_train.columns if c not in features]\n",
    "to_drop_cols.remove(ID_COL)\n",
    "comp_train.drop(to_drop_cols, axis=1, inplace=True)\n",
    "comp_test.drop(to_drop_cols, axis=1, inplace=True)\n",
    "comp_train.shape[1]"
   ]
  },
  {
   "cell_type": "code",
   "execution_count": 11,
   "metadata": {},
   "outputs": [
    {
     "data": {
      "text/plain": [
       "0"
      ]
     },
     "execution_count": 11,
     "metadata": {},
     "output_type": "execute_result"
    }
   ],
   "source": [
    "gc.collect()"
   ]
  },
  {
   "cell_type": "code",
   "execution_count": 12,
   "metadata": {
    "collapsed": true
   },
   "outputs": [],
   "source": [
    "param = {'num_leaves': 5000,\n",
    "         'min_data_in_leaf': 220, \n",
    "         'objective':'binary',\n",
    "         'max_depth': -1,\n",
    "         'learning_rate': 0.005,\n",
    "         \"boosting\": \"gbdt\",\n",
    "         \"feature_fraction\": 0.22,\n",
    "         \"metric\": 'auc',\n",
    "         \"lambda_l1\": 2,\n",
    "         \"lambda_l2\": 0.6,\n",
    "         \"random_state\": 6,\n",
    "         \"verbosity\": -1,\n",
    "         'scale_pos_weight': 1.15}"
   ]
  },
  {
   "cell_type": "code",
   "execution_count": 13,
   "metadata": {},
   "outputs": [
    {
     "name": "stdout",
     "output_type": "stream",
     "text": [
      "fold n°0\n",
      "Training until validation scores don't improve for 800 rounds\n",
      "[400]\ttraining's auc: 0.911273\tvalid_1's auc: 0.83652\n",
      "[800]\ttraining's auc: 0.940299\tvalid_1's auc: 0.848034\n",
      "[1200]\ttraining's auc: 0.962182\tvalid_1's auc: 0.856011\n",
      "[1600]\ttraining's auc: 0.977676\tvalid_1's auc: 0.862563\n",
      "[2000]\ttraining's auc: 0.987575\tvalid_1's auc: 0.866877\n",
      "[2400]\ttraining's auc: 0.993572\tvalid_1's auc: 0.869715\n",
      "[2800]\ttraining's auc: 0.996896\tvalid_1's auc: 0.870827\n",
      "[3200]\ttraining's auc: 0.99862\tvalid_1's auc: 0.871773\n",
      "[3600]\ttraining's auc: 0.999428\tvalid_1's auc: 0.872317\n",
      "[4000]\ttraining's auc: 0.999776\tvalid_1's auc: 0.872346\n",
      "[4400]\ttraining's auc: 0.999921\tvalid_1's auc: 0.872079\n",
      "Early stopping, best iteration is:\n",
      "[3968]\ttraining's auc: 0.999758\tvalid_1's auc: 0.872546\n",
      "fold n°1\n",
      "Training until validation scores don't improve for 800 rounds\n",
      "[400]\ttraining's auc: 0.911843\tvalid_1's auc: 0.848174\n",
      "[800]\ttraining's auc: 0.941108\tvalid_1's auc: 0.855254\n",
      "[1200]\ttraining's auc: 0.962534\tvalid_1's auc: 0.860944\n",
      "[1600]\ttraining's auc: 0.977602\tvalid_1's auc: 0.865312\n",
      "[2000]\ttraining's auc: 0.987334\tvalid_1's auc: 0.868852\n",
      "[2400]\ttraining's auc: 0.993381\tvalid_1's auc: 0.870133\n",
      "[2800]\ttraining's auc: 0.996775\tvalid_1's auc: 0.871288\n",
      "[3200]\ttraining's auc: 0.998551\tvalid_1's auc: 0.871824\n",
      "[3600]\ttraining's auc: 0.999386\tvalid_1's auc: 0.871334\n",
      "[4000]\ttraining's auc: 0.999772\tvalid_1's auc: 0.871512\n",
      "Early stopping, best iteration is:\n",
      "[3233]\ttraining's auc: 0.998643\tvalid_1's auc: 0.872071\n",
      "fold n°2\n",
      "Training until validation scores don't improve for 800 rounds\n",
      "[400]\ttraining's auc: 0.913569\tvalid_1's auc: 0.833473\n",
      "[800]\ttraining's auc: 0.942515\tvalid_1's auc: 0.839042\n",
      "[1200]\ttraining's auc: 0.963597\tvalid_1's auc: 0.84325\n",
      "[1600]\ttraining's auc: 0.97854\tvalid_1's auc: 0.844657\n",
      "[2000]\ttraining's auc: 0.988124\tvalid_1's auc: 0.845746\n",
      "[2400]\ttraining's auc: 0.993859\tvalid_1's auc: 0.846546\n",
      "[2800]\ttraining's auc: 0.997043\tvalid_1's auc: 0.846767\n",
      "[3200]\ttraining's auc: 0.998673\tvalid_1's auc: 0.846586\n",
      "[3600]\ttraining's auc: 0.999429\tvalid_1's auc: 0.846391\n",
      "Early stopping, best iteration is:\n",
      "[2964]\ttraining's auc: 0.997839\tvalid_1's auc: 0.847096\n",
      "fold n°3\n",
      "Training until validation scores don't improve for 800 rounds\n",
      "[400]\ttraining's auc: 0.912211\tvalid_1's auc: 0.83983\n",
      "[800]\ttraining's auc: 0.942312\tvalid_1's auc: 0.851508\n",
      "[1200]\ttraining's auc: 0.963649\tvalid_1's auc: 0.856317\n",
      "[1600]\ttraining's auc: 0.978547\tvalid_1's auc: 0.859218\n",
      "[2000]\ttraining's auc: 0.988054\tvalid_1's auc: 0.861081\n",
      "[2400]\ttraining's auc: 0.993784\tvalid_1's auc: 0.861686\n",
      "[2800]\ttraining's auc: 0.996949\tvalid_1's auc: 0.862219\n",
      "[3200]\ttraining's auc: 0.998599\tvalid_1's auc: 0.861978\n",
      "[3600]\ttraining's auc: 0.999392\tvalid_1's auc: 0.861763\n",
      "Early stopping, best iteration is:\n",
      "[2935]\ttraining's auc: 0.997633\tvalid_1's auc: 0.862477\n",
      "fold n°4\n",
      "Training until validation scores don't improve for 800 rounds\n",
      "[400]\ttraining's auc: 0.91247\tvalid_1's auc: 0.83169\n",
      "[800]\ttraining's auc: 0.942171\tvalid_1's auc: 0.843115\n",
      "[1200]\ttraining's auc: 0.963843\tvalid_1's auc: 0.848034\n",
      "[1600]\ttraining's auc: 0.978772\tvalid_1's auc: 0.851906\n",
      "[2000]\ttraining's auc: 0.988268\tvalid_1's auc: 0.854179\n",
      "[2400]\ttraining's auc: 0.993839\tvalid_1's auc: 0.855469\n",
      "[2800]\ttraining's auc: 0.996981\tvalid_1's auc: 0.855354\n",
      "[3200]\ttraining's auc: 0.998634\tvalid_1's auc: 0.8555\n",
      "[3600]\ttraining's auc: 0.999417\tvalid_1's auc: 0.855317\n",
      "Early stopping, best iteration is:\n",
      "[3101]\ttraining's auc: 0.998333\tvalid_1's auc: 0.855787\n",
      "fold n°5\n",
      "Training until validation scores don't improve for 800 rounds\n",
      "[400]\ttraining's auc: 0.914076\tvalid_1's auc: 0.813477\n",
      "[800]\ttraining's auc: 0.942784\tvalid_1's auc: 0.8249\n",
      "[1200]\ttraining's auc: 0.963777\tvalid_1's auc: 0.831077\n",
      "[1600]\ttraining's auc: 0.978757\tvalid_1's auc: 0.835121\n",
      "[2000]\ttraining's auc: 0.988202\tvalid_1's auc: 0.836735\n",
      "[2400]\ttraining's auc: 0.99391\tvalid_1's auc: 0.837772\n",
      "[2800]\ttraining's auc: 0.997048\tvalid_1's auc: 0.83783\n",
      "[3200]\ttraining's auc: 0.998643\tvalid_1's auc: 0.83879\n",
      "[3600]\ttraining's auc: 0.999422\tvalid_1's auc: 0.839011\n",
      "[4000]\ttraining's auc: 0.999773\tvalid_1's auc: 0.838635\n",
      "Early stopping, best iteration is:\n",
      "[3483]\ttraining's auc: 0.999253\tvalid_1's auc: 0.839226\n",
      "fold n°6\n",
      "Training until validation scores don't improve for 800 rounds\n",
      "[400]\ttraining's auc: 0.913745\tvalid_1's auc: 0.847984\n",
      "[800]\ttraining's auc: 0.943066\tvalid_1's auc: 0.853773\n",
      "[1200]\ttraining's auc: 0.964417\tvalid_1's auc: 0.857645\n",
      "[1600]\ttraining's auc: 0.979198\tvalid_1's auc: 0.860748\n",
      "[2000]\ttraining's auc: 0.988619\tvalid_1's auc: 0.862446\n",
      "[2400]\ttraining's auc: 0.994137\tvalid_1's auc: 0.86335\n",
      "[2800]\ttraining's auc: 0.99717\tvalid_1's auc: 0.863353\n",
      "[3200]\ttraining's auc: 0.998715\tvalid_1's auc: 0.863361\n",
      "[3600]\ttraining's auc: 0.999456\tvalid_1's auc: 0.863407\n",
      "Early stopping, best iteration is:\n",
      "[3080]\ttraining's auc: 0.998347\tvalid_1's auc: 0.863766\n",
      "fold n°7\n",
      "Training until validation scores don't improve for 800 rounds\n",
      "[400]\ttraining's auc: 0.913223\tvalid_1's auc: 0.829447\n",
      "[800]\ttraining's auc: 0.942433\tvalid_1's auc: 0.840282\n",
      "[1200]\ttraining's auc: 0.963727\tvalid_1's auc: 0.848081\n",
      "[1600]\ttraining's auc: 0.978807\tvalid_1's auc: 0.85146\n",
      "[2000]\ttraining's auc: 0.988336\tvalid_1's auc: 0.854086\n",
      "[2400]\ttraining's auc: 0.994028\tvalid_1's auc: 0.855745\n",
      "[2800]\ttraining's auc: 0.997084\tvalid_1's auc: 0.856863\n",
      "[3200]\ttraining's auc: 0.998703\tvalid_1's auc: 0.857825\n",
      "[3600]\ttraining's auc: 0.999455\tvalid_1's auc: 0.858622\n",
      "[4000]\ttraining's auc: 0.99978\tvalid_1's auc: 0.859227\n",
      "[4400]\ttraining's auc: 0.99992\tvalid_1's auc: 0.859558\n",
      "[4800]\ttraining's auc: 0.999971\tvalid_1's auc: 0.85978\n",
      "[5200]\ttraining's auc: 0.99999\tvalid_1's auc: 0.859959\n",
      "[5600]\ttraining's auc: 0.999997\tvalid_1's auc: 0.860204\n",
      "[6000]\ttraining's auc: 0.999999\tvalid_1's auc: 0.860385\n",
      "[6400]\ttraining's auc: 1\tvalid_1's auc: 0.860575\n",
      "[6800]\ttraining's auc: 1\tvalid_1's auc: 0.860587\n",
      "[7200]\ttraining's auc: 1\tvalid_1's auc: 0.86031\n",
      "Early stopping, best iteration is:\n",
      "[6503]\ttraining's auc: 1\tvalid_1's auc: 0.860719\n",
      "fold n°8\n",
      "Training until validation scores don't improve for 800 rounds\n",
      "[400]\ttraining's auc: 0.91295\tvalid_1's auc: 0.846817\n",
      "[800]\ttraining's auc: 0.942453\tvalid_1's auc: 0.860284\n",
      "[1200]\ttraining's auc: 0.963964\tvalid_1's auc: 0.867464\n",
      "[1600]\ttraining's auc: 0.979113\tvalid_1's auc: 0.871289\n",
      "[2000]\ttraining's auc: 0.988556\tvalid_1's auc: 0.873461\n",
      "[2400]\ttraining's auc: 0.994214\tvalid_1's auc: 0.874362\n",
      "[2800]\ttraining's auc: 0.997285\tvalid_1's auc: 0.875033\n",
      "[3200]\ttraining's auc: 0.998788\tvalid_1's auc: 0.875045\n",
      "Early stopping, best iteration is:\n",
      "[2711]\ttraining's auc: 0.996774\tvalid_1's auc: 0.875295\n",
      "fold n°9\n",
      "Training until validation scores don't improve for 800 rounds\n",
      "[400]\ttraining's auc: 0.915759\tvalid_1's auc: 0.813676\n",
      "[800]\ttraining's auc: 0.944515\tvalid_1's auc: 0.82437\n",
      "[1200]\ttraining's auc: 0.965639\tvalid_1's auc: 0.831737\n",
      "[1600]\ttraining's auc: 0.980251\tvalid_1's auc: 0.836152\n",
      "[2000]\ttraining's auc: 0.989325\tvalid_1's auc: 0.838767\n",
      "[2400]\ttraining's auc: 0.994695\tvalid_1's auc: 0.840294\n",
      "[2800]\ttraining's auc: 0.997544\tvalid_1's auc: 0.840838\n",
      "[3200]\ttraining's auc: 0.99896\tvalid_1's auc: 0.841512\n",
      "[3600]\ttraining's auc: 0.999594\tvalid_1's auc: 0.842001\n",
      "[4000]\ttraining's auc: 0.999852\tvalid_1's auc: 0.841771\n",
      "[4400]\ttraining's auc: 0.999954\tvalid_1's auc: 0.841806\n",
      "[4800]\ttraining's auc: 0.999985\tvalid_1's auc: 0.841938\n",
      "[5200]\ttraining's auc: 0.999996\tvalid_1's auc: 0.842261\n",
      "[5600]\ttraining's auc: 0.999999\tvalid_1's auc: 0.842373\n",
      "[6000]\ttraining's auc: 1\tvalid_1's auc: 0.842278\n",
      "Early stopping, best iteration is:\n",
      "[5569]\ttraining's auc: 0.999999\tvalid_1's auc: 0.842436\n",
      "CV score: 0.85597 \n"
     ]
    }
   ],
   "source": [
    "max_iter = 10\n",
    "folds = StratifiedKFold(n_splits=max_iter, random_state=1991)\n",
    "oof = np.zeros(len(comp_train))\n",
    "categorical_columns = None\n",
    "predictions_test = np.zeros(len(comp_test))\n",
    "feature_importance_df = pd.DataFrame()\n",
    "\n",
    "for fold_, (trn_idx, val_idx) in enumerate(folds.split(comp_train.values, target)):\n",
    "    print(\"fold n°{}\".format(fold_))\n",
    "    X_trn, y_trn = comp_train.iloc[trn_idx][features], target.iloc[trn_idx]\n",
    "    X_val, y_val = comp_train.iloc[val_idx][features], target.iloc[val_idx]\n",
    "    X_comp_test = comp_test[features]\n",
    "    trn_data = lgb.Dataset(X_trn, y_trn, categorical_feature = categorical_columns)\n",
    "    val_data = lgb.Dataset(X_val, y_val, categorical_feature = categorical_columns)\n",
    "    num_round = 500000\n",
    "    clf = lgb.train(param, trn_data, num_round, valid_sets = [trn_data, val_data], verbose_eval=400, early_stopping_rounds = 800)\n",
    "    oof[val_idx] = clf.predict(X_val, num_iteration=clf.best_iteration)\n",
    "    \n",
    "    del trn_data, val_data, X_trn, X_val, y_trn, y_val\n",
    "    gc.collect()\n",
    "    \n",
    "    fold_importance_df = pd.DataFrame()\n",
    "    fold_importance_df[\"feature\"] = features\n",
    "    fold_importance_df[\"importance\"] = clf.feature_importance(importance_type='gain')\n",
    "    fold_importance_df[\"fold\"] = fold_ + 1\n",
    "    feature_importance_df = pd.concat([feature_importance_df, fold_importance_df], axis=0)\n",
    "\n",
    "    current_comp_test_pred = clf.predict(X_comp_test, num_iteration=clf.best_iteration)\n",
    "    predictions_test += current_comp_test_pred / folds.n_splits\n",
    "    \n",
    "    del X_comp_test, current_comp_test_pred, clf\n",
    "    \n",
    "    gc.collect()\n",
    "  \n",
    "print(\"CV score: {:<8.5f}\".format(roc_auc_score(target, oof)))"
   ]
  },
  {
   "cell_type": "code",
   "execution_count": 14,
   "metadata": {},
   "outputs": [
    {
     "data": {
      "text/plain": [
       "<matplotlib.axes._subplots.AxesSubplot at 0x7f3a88aba9e8>"
      ]
     },
     "execution_count": 14,
     "metadata": {},
     "output_type": "execute_result"
    },
    {
     "data": {
      "image/png": "[encoded data removed]",
      "text/plain": [
       "<Figure size 432x288 with 1 Axes>"
      ]
     },
     "metadata": {
      "needs_background": "light"
     },
     "output_type": "display_data"
    }
   ],
   "source": [
    "pd.Series(predictions_test).plot(kind='density')"
   ]
  },
  {
   "cell_type": "code",
   "execution_count": 15,
   "metadata": {},
   "outputs": [
    {
     "data": {
      "text/plain": [
       "<matplotlib.axes._subplots.AxesSubplot at 0x7f3a7e59aa90>"
      ]
     },
     "execution_count": 15,
     "metadata": {},
     "output_type": "execute_result"
    },
    {
     "data": {
      "image/png": "[encoded data removed]",
      "text/plain": [
       "<Figure size 720x720 with 1 Axes>"
      ]
     },
     "metadata": {
      "needs_background": "light"
     },
     "output_type": "display_data"
    }
   ],
   "source": [
    "fi = feature_importance_df.groupby('feature')['importance'].mean().sort_values()\n",
    "plt.figure(figsize=(10,10))\n",
    "fi[-20:].plot.barh(fontsize=14)"
   ]
  },
  {
   "cell_type": "code",
   "execution_count": 16,
   "metadata": {
    "collapsed": true
   },
   "outputs": [],
   "source": [
    "oof_df = pd.DataFrame()\n",
    "oof_df['patient_id'] = comp_train['patient_id']\n",
    "oof_df[TARGET_COL] = oof\n",
    "oof_df.to_csv(OUTPUT_PATH + 'oof_lgbm_2.csv', index=False)"
   ]
  },
  {
   "cell_type": "code",
   "execution_count": 17,
   "metadata": {},
   "outputs": [
    {
     "data": {
      "text/html": [
       "<div>\n",
       "<style scoped>\n",
       "    .dataframe tbody tr th:only-of-type {\n",
       "        vertical-align: middle;\n",
       "    }\n",
       "\n",
       "    .dataframe tbody tr th {\n",
       "        vertical-align: top;\n",
       "    }\n",
       "\n",
       "    .dataframe thead th {\n",
       "        text-align: right;\n",
       "    }\n",
       "</style>\n",
       "<table border=\"1\" class=\"dataframe\">\n",
       "  <thead>\n",
       "    <tr style=\"text-align: right;\">\n",
       "      <th></th>\n",
       "      <th>patient_id</th>\n",
       "      <th>outcome_flag</th>\n",
       "    </tr>\n",
       "  </thead>\n",
       "  <tbody>\n",
       "    <tr>\n",
       "      <th>0</th>\n",
       "      <td>patient_2</td>\n",
       "      <td>0.065886</td>\n",
       "    </tr>\n",
       "    <tr>\n",
       "      <th>1</th>\n",
       "      <td>patient_3</td>\n",
       "      <td>0.187469</td>\n",
       "    </tr>\n",
       "    <tr>\n",
       "      <th>2</th>\n",
       "      <td>patient_5</td>\n",
       "      <td>0.559389</td>\n",
       "    </tr>\n",
       "    <tr>\n",
       "      <th>3</th>\n",
       "      <td>patient_8</td>\n",
       "      <td>0.006929</td>\n",
       "    </tr>\n",
       "    <tr>\n",
       "      <th>4</th>\n",
       "      <td>patient_14</td>\n",
       "      <td>0.449431</td>\n",
       "    </tr>\n",
       "    <tr>\n",
       "      <th>5</th>\n",
       "      <td>patient_15</td>\n",
       "      <td>0.080379</td>\n",
       "    </tr>\n",
       "    <tr>\n",
       "      <th>6</th>\n",
       "      <td>patient_16</td>\n",
       "      <td>0.015987</td>\n",
       "    </tr>\n",
       "    <tr>\n",
       "      <th>7</th>\n",
       "      <td>patient_33</td>\n",
       "      <td>0.226737</td>\n",
       "    </tr>\n",
       "    <tr>\n",
       "      <th>8</th>\n",
       "      <td>patient_38</td>\n",
       "      <td>0.012341</td>\n",
       "    </tr>\n",
       "    <tr>\n",
       "      <th>9</th>\n",
       "      <td>patient_41</td>\n",
       "      <td>0.068882</td>\n",
       "    </tr>\n",
       "  </tbody>\n",
       "</table>\n",
       "</div>"
      ],
      "text/plain": [
       "   patient_id  outcome_flag\n",
       "0   patient_2      0.065886\n",
       "1   patient_3      0.187469\n",
       "2   patient_5      0.559389\n",
       "3   patient_8      0.006929\n",
       "4  patient_14      0.449431\n",
       "5  patient_15      0.080379\n",
       "6  patient_16      0.015987\n",
       "7  patient_33      0.226737\n",
       "8  patient_38      0.012341\n",
       "9  patient_41      0.068882"
      ]
     },
     "execution_count": 17,
     "metadata": {},
     "output_type": "execute_result"
    }
   ],
   "source": [
    "sub_df = pd.DataFrame()\n",
    "sub_df[ID_COL] = comp_test[ID_COL]\n",
    "sub_df[TARGET_COL] = predictions_test\n",
    "sub_df[[TARGET_COL]].to_excel(OUTPUT_PATH + 'preds_lgbm_2.xlsx', index=False)\n",
    "sub_df.head(10)"
   ]
  }
 ],
 "metadata": {
  "kernelspec": {
   "display_name": "Python 3",
   "language": "python",
   "name": "python3"
  },
  "language_info": {
   "codemirror_mode": {
    "name": "ipython",
    "version": 3
   },
   "file_extension": ".py",
   "mimetype": "text/x-python",
   "name": "python",
   "nbconvert_exporter": "python",
   "pygments_lexer": "ipython3",
   "version": "3.6.3"
  }
 },
 "nbformat": 4,
 "nbformat_minor": 1
}
