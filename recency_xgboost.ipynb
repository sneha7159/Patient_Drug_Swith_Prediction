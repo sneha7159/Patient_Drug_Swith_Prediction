{
 "cells": [
  {
   "cell_type": "code",
   "execution_count": 1,
   "metadata": {
    "collapsed": true
   },
   "outputs": [],
   "source": [
    "def reduce_mem_usage_colwise(col):\n",
    "    numerics = ['int16', 'int32', 'int64', 'float16', 'float32', 'float64']\n",
    "    col_type = col.dtypes\n",
    "    if col_type in numerics:\n",
    "        c_min = col.min()\n",
    "        c_max = col.max()\n",
    "        if str(col_type)[:3] == 'int':\n",
    "            if c_min > np.iinfo(np.int8).min and c_max < np.iinfo(np.int8).max:\n",
    "                col = col.astype(np.int8)\n",
    "            elif c_min > np.iinfo(np.int16).min and c_max < np.iinfo(np.int16).max:\n",
    "                col = col.astype(np.int16)\n",
    "            elif c_min > np.iinfo(np.int32).min and c_max < np.iinfo(np.int32).max:\n",
    "                col = col.astype(np.int32)\n",
    "            elif c_min > np.iinfo(np.int64).min and c_max < np.iinfo(np.int64).max:\n",
    "                col = col.astype(np.int64)  \n",
    "        else:\n",
    "            if c_min > np.finfo(np.float16).min and c_max < np.finfo(np.float16).max:\n",
    "                col = col.astype(np.float16)\n",
    "            elif c_min > np.finfo(np.float32).min and c_max < np.finfo(np.float32).max:\n",
    "                col = col.astype(np.float32)\n",
    "            else:\n",
    "                col = col.astype(np.float64)       \n",
    "    return col"
   ]
  },
  {
   "cell_type": "code",
   "execution_count": 2,
   "metadata": {
    "collapsed": true
   },
   "outputs": [],
   "source": [
    "import pandas as pd\n",
    "import matplotlib.pyplot as plt\n",
    "import numpy as np\n",
    "\n",
    "from sklearn.model_selection import StratifiedKFold\n",
    "from sklearn.metrics import roc_auc_score\n",
    "\n",
    "import xgboost as xgb\n",
    "\n",
    "import multiprocessing as mp\n",
    "from functools import partial\n",
    "import gc\n",
    "import time\n",
    "\n",
    "import warnings\n",
    "warnings.simplefilter(action='ignore', category=FutureWarning)"
   ]
  },
  {
   "cell_type": "code",
   "execution_count": 3,
   "metadata": {},
   "outputs": [
    {
     "name": "stdout",
     "output_type": "stream",
     "text": [
      "CPU times: user 16.7 s, sys: 2.22 s, total: 18.9 s\n",
      "Wall time: 18.9 s\n"
     ]
    }
   ],
   "source": [
    "%%time\n",
    "DATA_PATH = 'Data/'\n",
    "OUTPUT_PATH = 'Output/'\n",
    "\n",
    "train = pd.read_csv(DATA_PATH + 'train_data.csv')\n",
    "train_labels = pd.read_csv(DATA_PATH + 'train_labels.csv')\n",
    "test = pd.read_csv(DATA_PATH + 'test_data.csv')\n",
    "sample_sub = pd.read_csv(DATA_PATH + 'Sample Submission.csv')"
   ]
  },
  {
   "cell_type": "code",
   "execution_count": 4,
   "metadata": {
    "collapsed": true
   },
   "outputs": [],
   "source": [
    "train = pd.merge(train, train_labels, on = 'patient_id', how='left')\n",
    "df = pd.concat([train, test])\n",
    "df = df.drop_duplicates()\n",
    "comp_train = train_labels.copy()\n",
    "comp_test = sample_sub.copy()"
   ]
  },
  {
   "cell_type": "code",
   "execution_count": 5,
   "metadata": {
    "collapsed": true
   },
   "outputs": [],
   "source": [
    "df['made_payment'] = pd.qcut(df['patient_payment'], 25000, duplicates='drop', labels=False).astype('str')"
   ]
  },
  {
   "cell_type": "code",
   "execution_count": 6,
   "metadata": {},
   "outputs": [
    {
     "name": "stdout",
     "output_type": "stream",
     "text": [
      "CPU times: user 14.1 s, sys: 3.26 s, total: 17.3 s\n",
      "Wall time: 17.3 s\n"
     ]
    }
   ],
   "source": [
    "%%time\n",
    "for c in ['event_name', 'plan_type', 'specialty', 'made_payment']:\n",
    "    temp = df.groupby(['patient_id', c]).size().unstack().reset_index()\n",
    "    temp.columns = [col + '_size_' + c if col != 'patient_id' else 'patient_id' for col in temp.columns]\n",
    "    comp_train = pd.merge(comp_train, temp, on = 'patient_id', how='left')\n",
    "    comp_test = pd.merge(comp_test, temp, on = 'patient_id', how='left')"
   ]
  },
  {
   "cell_type": "code",
   "execution_count": 7,
   "metadata": {},
   "outputs": [
    {
     "name": "stdout",
     "output_type": "stream",
     "text": [
      "CPU times: user 31.2 s, sys: 3.7 s, total: 34.9 s\n",
      "Wall time: 34.9 s\n"
     ]
    }
   ],
   "source": [
    "%%time\n",
    "for c in ['event_name', 'plan_type', 'specialty', 'made_payment']:\n",
    "    temp = df.groupby(c).apply(lambda x: x.groupby('patient_id')['event_time'].min()).unstack().T.reset_index()\n",
    "    temp.columns = ['recency_' + col + '_' + c if col != 'patient_id' else 'patient_id' for col in temp.columns]\n",
    "    comp_train = pd.merge(comp_train, temp, on = 'patient_id', how='left')\n",
    "    comp_test = pd.merge(comp_test, temp, on = 'patient_id', how='left')"
   ]
  },
  {
   "cell_type": "code",
   "execution_count": 8,
   "metadata": {},
   "outputs": [
    {
     "name": "stdout",
     "output_type": "stream",
     "text": [
      "CPU times: user 1min 1s, sys: 3.82 s, total: 1min 5s\n",
      "Wall time: 1min 5s\n"
     ]
    }
   ],
   "source": [
    "%%time\n",
    "for c in ['event_name', 'plan_type', 'specialty', 'made_payment']:\n",
    "    temp = df.groupby(c).apply(lambda x: x.groupby('patient_id')['event_time'].nunique()).unstack().T.reset_index()\n",
    "    temp.columns = ['unique_event_time_' + col + '_' + c if col != 'patient_id' else 'patient_id' for col in temp.columns]\n",
    "    comp_train = pd.merge(comp_train, temp, on = 'patient_id', how='left')\n",
    "    comp_test = pd.merge(comp_test, temp, on = 'patient_id', how='left')"
   ]
  },
  {
   "cell_type": "code",
   "execution_count": 9,
   "metadata": {},
   "outputs": [
    {
     "name": "stdout",
     "output_type": "stream",
     "text": [
      "CPU times: user 31.7 s, sys: 4.12 s, total: 35.8 s\n",
      "Wall time: 35.8 s\n"
     ]
    }
   ],
   "source": [
    "%%time\n",
    "for c in ['event_name', 'plan_type', 'specialty', 'made_payment']:\n",
    "    temp = df.groupby(c).apply(lambda x: x.groupby('patient_id')['event_time'].max()).unstack().T.reset_index()\n",
    "    temp.columns = ['oldest_event_time_' + col + '_' + c if col != 'patient_id' else 'patient_id' for col in temp.columns]\n",
    "    comp_train = pd.merge(comp_train, temp, on = 'patient_id', how='left')\n",
    "    comp_test = pd.merge(comp_test, temp, on = 'patient_id', how='left')"
   ]
  },
  {
   "cell_type": "code",
   "execution_count": 10,
   "metadata": {},
   "outputs": [
    {
     "name": "stdout",
     "output_type": "stream",
     "text": [
      "CPU times: user 20.4 s, sys: 2.83 s, total: 23.2 s\n",
      "Wall time: 23.2 s\n"
     ]
    }
   ],
   "source": [
    "%%time\n",
    "for c in ['event_name', 'plan_type', 'specialty']:\n",
    "    payment = df.groupby(c).apply(lambda x: x.groupby('patient_id')['patient_payment'].sum()).unstack().T.reset_index()\n",
    "    payment.columns = [col + '_total_payment_' + c if col != 'patient_id' else 'patient_id' for col in payment.columns]\n",
    "    comp_train = pd.merge(comp_train, payment, on = 'patient_id', how='left')\n",
    "    comp_test = pd.merge(comp_test, payment, on = 'patient_id', how='left')"
   ]
  },
  {
   "cell_type": "code",
   "execution_count": 11,
   "metadata": {},
   "outputs": [
    {
     "name": "stdout",
     "output_type": "stream",
     "text": [
      "CPU times: user 20.6 s, sys: 2.77 s, total: 23.3 s\n",
      "Wall time: 23.3 s\n"
     ]
    }
   ],
   "source": [
    "%%time\n",
    "for c in ['event_name', 'plan_type', 'specialty']:\n",
    "    payment = df.groupby(c).apply(lambda x: x.groupby('patient_id')['patient_payment'].mean()).unstack().T.reset_index()\n",
    "    payment.columns = [col + '_mean_payment_' + c if col != 'patient_id' else 'patient_id' for col in payment.columns]\n",
    "    comp_train = pd.merge(comp_train, payment, on = 'patient_id', how='left')\n",
    "    comp_test = pd.merge(comp_test, payment, on = 'patient_id', how='left')"
   ]
  },
  {
   "cell_type": "code",
   "execution_count": 12,
   "metadata": {},
   "outputs": [
    {
     "name": "stdout",
     "output_type": "stream",
     "text": [
      "CPU times: user 21 s, sys: 2.59 s, total: 23.6 s\n",
      "Wall time: 23.6 s\n"
     ]
    }
   ],
   "source": [
    "%%time\n",
    "for c in ['event_name', 'plan_type', 'specialty']:\n",
    "    payment = df.groupby(c).apply(lambda x: x.groupby('patient_id')['patient_payment'].max()).unstack().T.reset_index()\n",
    "    payment.columns = [col + '_max_payment_' + c if col != 'patient_id' else 'patient_id' for col in payment.columns]\n",
    "    comp_train = pd.merge(comp_train, payment, on = 'patient_id', how='left')\n",
    "    comp_test = pd.merge(comp_test, payment, on = 'patient_id', how='left')"
   ]
  },
  {
   "cell_type": "code",
   "execution_count": 13,
   "metadata": {
    "collapsed": true
   },
   "outputs": [],
   "source": [
    "comp_train = comp_train.apply(lambda x: reduce_mem_usage_colwise(x))\n",
    "comp_test = comp_test.apply(lambda x: reduce_mem_usage_colwise(x))"
   ]
  },
  {
   "cell_type": "code",
   "execution_count": 14,
   "metadata": {},
   "outputs": [
    {
     "data": {
      "text/plain": [
       "0"
      ]
     },
     "execution_count": 14,
     "metadata": {},
     "output_type": "execute_result"
    }
   ],
   "source": [
    "del train, test, df, temp, payment\n",
    "gc.collect()"
   ]
  },
  {
   "cell_type": "code",
   "execution_count": 15,
   "metadata": {},
   "outputs": [
    {
     "data": {
      "text/plain": [
       "13812"
      ]
     },
     "execution_count": 15,
     "metadata": {},
     "output_type": "execute_result"
    }
   ],
   "source": [
    "train, test = comp_train, comp_test\n",
    "ID_COL, TARGET_COL = 'patient_id', 'outcome_flag'\n",
    "target = train[TARGET_COL]\n",
    "features = [c for c in train if c not in [ID_COL, TARGET_COL]]\n",
    "features = train[features].isnull().sum().sort_values(ascending=False)[400:].index.tolist()\n",
    "len(features)"
   ]
  },
  {
   "cell_type": "code",
   "execution_count": 16,
   "metadata": {},
   "outputs": [
    {
     "data": {
      "text/plain": [
       "0"
      ]
     },
     "execution_count": 16,
     "metadata": {},
     "output_type": "execute_result"
    }
   ],
   "source": [
    "params = {\n",
    "    'learning_rate': 0.01,\n",
    "    'max_depth': 4,\n",
    "    'colsample_bytree':.3,\n",
    "    'objective': 'binary:logistic',\n",
    "    'eval_metric': 'auc',\n",
    "    'nthread': 4,\n",
    "    'silent': 1,\n",
    "    \"lambda\": 5,\n",
    "    \"lambda_l2\":5,\n",
    "    'scale_pos_weight': 1,\n",
    "    'grow_policy': 'lossguide',\n",
    "    'max_leaves': 50,\n",
    "    'tree_method': 'exact',\n",
    "    'alpha': 3,\n",
    "    'colsample_bynode': 0.3\n",
    "}\n",
    "gc.collect()"
   ]
  },
  {
   "cell_type": "code",
   "execution_count": 18,
   "metadata": {},
   "outputs": [
    {
     "name": "stdout",
     "output_type": "stream",
     "text": [
      "fold n°0\n",
      "[0]\ttrain-auc:0.754977\tval-auc:0.719272\n",
      "Multiple eval metrics have been passed: 'val-auc' will be used for early stopping.\n",
      "\n",
      "Will train until val-auc hasn't improved in 800 rounds.\n",
      "[400]\ttrain-auc:0.879094\tval-auc:0.842763\n",
      "[800]\ttrain-auc:0.910804\tval-auc:0.864504\n",
      "[1200]\ttrain-auc:0.931068\tval-auc:0.874329\n",
      "[1600]\ttrain-auc:0.944897\tval-auc:0.879686\n",
      "[2000]\ttrain-auc:0.956028\tval-auc:0.882229\n",
      "[2400]\ttrain-auc:0.964759\tval-auc:0.884436\n",
      "[2800]\ttrain-auc:0.971928\tval-auc:0.885817\n",
      "[3200]\ttrain-auc:0.977787\tval-auc:0.886491\n",
      "[3600]\ttrain-auc:0.982297\tval-auc:0.887102\n",
      "[4000]\ttrain-auc:0.985882\tval-auc:0.888093\n",
      "[4400]\ttrain-auc:0.988707\tval-auc:0.888191\n",
      "[4800]\ttrain-auc:0.990996\tval-auc:0.888704\n",
      "[5200]\ttrain-auc:0.992925\tval-auc:0.888856\n",
      "[5600]\ttrain-auc:0.994431\tval-auc:0.888922\n",
      "[6000]\ttrain-auc:0.995657\tval-auc:0.889208\n",
      "[6400]\ttrain-auc:0.996615\tval-auc:0.889377\n",
      "[6800]\ttrain-auc:0.997382\tval-auc:0.889415\n",
      "[7200]\ttrain-auc:0.997992\tval-auc:0.889011\n",
      "Stopping. Best iteration:\n",
      "[6548]\ttrain-auc:0.996904\tval-auc:0.889587\n",
      "\n",
      "fold n°1\n",
      "[0]\ttrain-auc:0.747883\tval-auc:0.72357\n",
      "Multiple eval metrics have been passed: 'val-auc' will be used for early stopping.\n",
      "\n",
      "Will train until val-auc hasn't improved in 800 rounds.\n",
      "[400]\ttrain-auc:0.877723\tval-auc:0.855099\n",
      "[800]\ttrain-auc:0.909411\tval-auc:0.873031\n",
      "[1200]\ttrain-auc:0.929337\tval-auc:0.881366\n",
      "[1600]\ttrain-auc:0.943997\tval-auc:0.88523\n",
      "[2000]\ttrain-auc:0.955356\tval-auc:0.887314\n",
      "[2400]\ttrain-auc:0.964303\tval-auc:0.888311\n",
      "[2800]\ttrain-auc:0.971496\tval-auc:0.888678\n",
      "[3200]\ttrain-auc:0.976979\tval-auc:0.889584\n",
      "[3600]\ttrain-auc:0.981476\tval-auc:0.889661\n",
      "[4000]\ttrain-auc:0.985149\tval-auc:0.890203\n",
      "[4400]\ttrain-auc:0.98824\tval-auc:0.891051\n",
      "[4800]\ttrain-auc:0.990721\tval-auc:0.891318\n",
      "[5200]\ttrain-auc:0.992712\tval-auc:0.891338\n",
      "[5600]\ttrain-auc:0.99428\tval-auc:0.891387\n",
      "[6000]\ttrain-auc:0.99552\tval-auc:0.891814\n",
      "[6400]\ttrain-auc:0.996548\tval-auc:0.891957\n",
      "[6800]\ttrain-auc:0.997334\tval-auc:0.891739\n",
      "Stopping. Best iteration:\n",
      "[6394]\ttrain-auc:0.996533\tval-auc:0.891983\n",
      "\n",
      "fold n°2\n",
      "[0]\ttrain-auc:0.746897\tval-auc:0.728791\n",
      "Multiple eval metrics have been passed: 'val-auc' will be used for early stopping.\n",
      "\n",
      "Will train until val-auc hasn't improved in 800 rounds.\n",
      "[400]\ttrain-auc:0.879888\tval-auc:0.831942\n",
      "[800]\ttrain-auc:0.912134\tval-auc:0.847412\n",
      "[1200]\ttrain-auc:0.932837\tval-auc:0.855707\n",
      "[1600]\ttrain-auc:0.94744\tval-auc:0.858003\n",
      "[2000]\ttrain-auc:0.958503\tval-auc:0.858516\n",
      "[2400]\ttrain-auc:0.966827\tval-auc:0.859361\n",
      "[2800]\ttrain-auc:0.973396\tval-auc:0.859757\n",
      "[3200]\ttrain-auc:0.978558\tval-auc:0.859886\n",
      "[3600]\ttrain-auc:0.982722\tval-auc:0.859849\n",
      "Stopping. Best iteration:\n",
      "[3079]\ttrain-auc:0.977176\tval-auc:0.860164\n",
      "\n",
      "fold n°3\n",
      "[0]\ttrain-auc:0.758589\tval-auc:0.746659\n",
      "Multiple eval metrics have been passed: 'val-auc' will be used for early stopping.\n",
      "\n",
      "Will train until val-auc hasn't improved in 800 rounds.\n",
      "[400]\ttrain-auc:0.880438\tval-auc:0.828078\n",
      "[800]\ttrain-auc:0.911876\tval-auc:0.84689\n",
      "[1200]\ttrain-auc:0.931941\tval-auc:0.854787\n",
      "[1600]\ttrain-auc:0.946475\tval-auc:0.859241\n",
      "[2000]\ttrain-auc:0.957423\tval-auc:0.861425\n",
      "[2400]\ttrain-auc:0.966197\tval-auc:0.86299\n",
      "[2800]\ttrain-auc:0.97302\tval-auc:0.863735\n",
      "[3200]\ttrain-auc:0.978575\tval-auc:0.864352\n",
      "[3600]\ttrain-auc:0.982964\tval-auc:0.864492\n",
      "[4000]\ttrain-auc:0.98646\tval-auc:0.864753\n",
      "[4400]\ttrain-auc:0.989281\tval-auc:0.864538\n",
      "Stopping. Best iteration:\n",
      "[3968]\ttrain-auc:0.986208\tval-auc:0.864905\n",
      "\n",
      "fold n°4\n",
      "[0]\ttrain-auc:0.748392\tval-auc:0.734731\n",
      "Multiple eval metrics have been passed: 'val-auc' will be used for early stopping.\n",
      "\n",
      "Will train until val-auc hasn't improved in 800 rounds.\n",
      "[400]\ttrain-auc:0.880742\tval-auc:0.817605\n",
      "[800]\ttrain-auc:0.912086\tval-auc:0.837236\n",
      "[1200]\ttrain-auc:0.932194\tval-auc:0.844637\n",
      "[1600]\ttrain-auc:0.946629\tval-auc:0.848317\n",
      "[2000]\ttrain-auc:0.957696\tval-auc:0.850791\n",
      "[2400]\ttrain-auc:0.966157\tval-auc:0.852846\n",
      "[2800]\ttrain-auc:0.973107\tval-auc:0.854603\n",
      "[3200]\ttrain-auc:0.978396\tval-auc:0.855529\n",
      "[3600]\ttrain-auc:0.982569\tval-auc:0.856028\n",
      "[4000]\ttrain-auc:0.986103\tval-auc:0.855982\n",
      "[4400]\ttrain-auc:0.989027\tval-auc:0.856048\n",
      "[4800]\ttrain-auc:0.991289\tval-auc:0.856656\n",
      "[5200]\ttrain-auc:0.993099\tval-auc:0.856661\n",
      "[5600]\ttrain-auc:0.994509\tval-auc:0.856613\n",
      "Stopping. Best iteration:\n",
      "[4975]\ttrain-auc:0.992144\tval-auc:0.856922\n",
      "\n",
      "fold n°5\n",
      "[0]\ttrain-auc:0.75586\tval-auc:0.715588\n",
      "Multiple eval metrics have been passed: 'val-auc' will be used for early stopping.\n",
      "\n",
      "Will train until val-auc hasn't improved in 800 rounds.\n",
      "[400]\ttrain-auc:0.881819\tval-auc:0.833413\n",
      "[800]\ttrain-auc:0.913489\tval-auc:0.84554\n",
      "[1200]\ttrain-auc:0.933568\tval-auc:0.849711\n",
      "[1600]\ttrain-auc:0.948006\tval-auc:0.851789\n",
      "[2000]\ttrain-auc:0.958688\tval-auc:0.854234\n",
      "[2400]\ttrain-auc:0.966891\tval-auc:0.855979\n",
      "[2800]\ttrain-auc:0.973344\tval-auc:0.856759\n",
      "[3200]\ttrain-auc:0.978508\tval-auc:0.857249\n",
      "[3600]\ttrain-auc:0.982753\tval-auc:0.857722\n",
      "[4000]\ttrain-auc:0.986266\tval-auc:0.858269\n",
      "[4400]\ttrain-auc:0.989014\tval-auc:0.858559\n",
      "[4800]\ttrain-auc:0.991212\tval-auc:0.85847\n",
      "[5200]\ttrain-auc:0.993033\tval-auc:0.858089\n",
      "Stopping. Best iteration:\n",
      "[4425]\ttrain-auc:0.989176\tval-auc:0.858673\n",
      "\n",
      "fold n°6\n",
      "[0]\ttrain-auc:0.7483\tval-auc:0.746803\n",
      "Multiple eval metrics have been passed: 'val-auc' will be used for early stopping.\n",
      "\n",
      "Will train until val-auc hasn't improved in 800 rounds.\n",
      "[400]\ttrain-auc:0.881683\tval-auc:0.846085\n",
      "[800]\ttrain-auc:0.913219\tval-auc:0.858026\n",
      "[1200]\ttrain-auc:0.932539\tval-auc:0.864113\n",
      "[1600]\ttrain-auc:0.946814\tval-auc:0.867087\n",
      "[2000]\ttrain-auc:0.957896\tval-auc:0.869282\n",
      "[2400]\ttrain-auc:0.966323\tval-auc:0.871235\n",
      "[2800]\ttrain-auc:0.972985\tval-auc:0.872001\n",
      "[3200]\ttrain-auc:0.978445\tval-auc:0.872256\n",
      "[3600]\ttrain-auc:0.982588\tval-auc:0.872279\n",
      "[4000]\ttrain-auc:0.985996\tval-auc:0.872164\n",
      "Stopping. Best iteration:\n",
      "[3260]\ttrain-auc:0.979166\tval-auc:0.872706\n",
      "\n",
      "fold n°7\n",
      "[0]\ttrain-auc:0.744829\tval-auc:0.720305\n",
      "Multiple eval metrics have been passed: 'val-auc' will be used for early stopping.\n",
      "\n",
      "Will train until val-auc hasn't improved in 800 rounds.\n",
      "[400]\ttrain-auc:0.880498\tval-auc:0.818678\n",
      "[800]\ttrain-auc:0.911684\tval-auc:0.837189\n",
      "[1200]\ttrain-auc:0.932112\tval-auc:0.846319\n",
      "[1600]\ttrain-auc:0.946625\tval-auc:0.852102\n",
      "[2000]\ttrain-auc:0.957914\tval-auc:0.855509\n",
      "[2400]\ttrain-auc:0.966585\tval-auc:0.857217\n",
      "[2800]\ttrain-auc:0.973387\tval-auc:0.858717\n",
      "[3200]\ttrain-auc:0.978784\tval-auc:0.859616\n",
      "[3600]\ttrain-auc:0.983007\tval-auc:0.860376\n",
      "[4000]\ttrain-auc:0.986419\tval-auc:0.860889\n",
      "[4400]\ttrain-auc:0.989315\tval-auc:0.860814\n",
      "[4800]\ttrain-auc:0.991624\tval-auc:0.861468\n",
      "[5200]\ttrain-auc:0.99341\tval-auc:0.861776\n",
      "[5600]\ttrain-auc:0.99483\tval-auc:0.861926\n",
      "[6000]\ttrain-auc:0.995958\tval-auc:0.862214\n",
      "[6400]\ttrain-auc:0.996882\tval-auc:0.862315\n",
      "[6800]\ttrain-auc:0.997601\tval-auc:0.862326\n",
      "[7200]\ttrain-auc:0.99817\tval-auc:0.86213\n",
      "Stopping. Best iteration:\n",
      "[6455]\ttrain-auc:0.996997\tval-auc:0.862436\n",
      "\n",
      "fold n°8\n",
      "[0]\ttrain-auc:0.745471\tval-auc:0.761841\n",
      "Multiple eval metrics have been passed: 'val-auc' will be used for early stopping.\n",
      "\n",
      "Will train until val-auc hasn't improved in 800 rounds.\n",
      "[400]\ttrain-auc:0.878191\tval-auc:0.846131\n",
      "[800]\ttrain-auc:0.910604\tval-auc:0.866272\n",
      "[1200]\ttrain-auc:0.931385\tval-auc:0.873763\n",
      "[1600]\ttrain-auc:0.946032\tval-auc:0.878866\n",
      "[2000]\ttrain-auc:0.957186\tval-auc:0.881243\n",
      "[2400]\ttrain-auc:0.965638\tval-auc:0.882766\n",
      "[2800]\ttrain-auc:0.972738\tval-auc:0.884238\n",
      "[3200]\ttrain-auc:0.978312\tval-auc:0.88467\n",
      "[3600]\ttrain-auc:0.982656\tval-auc:0.884558\n",
      "[4000]\ttrain-auc:0.98625\tval-auc:0.884284\n",
      "Stopping. Best iteration:\n",
      "[3354]\ttrain-auc:0.980066\tval-auc:0.884909\n",
      "\n",
      "fold n°9\n",
      "[0]\ttrain-auc:0.746716\tval-auc:0.741142\n",
      "Multiple eval metrics have been passed: 'val-auc' will be used for early stopping.\n",
      "\n",
      "Will train until val-auc hasn't improved in 800 rounds.\n",
      "[400]\ttrain-auc:0.882865\tval-auc:0.816979\n",
      "[800]\ttrain-auc:0.914084\tval-auc:0.830657\n",
      "[1200]\ttrain-auc:0.934428\tval-auc:0.83913\n",
      "[1600]\ttrain-auc:0.948584\tval-auc:0.843741\n",
      "[2000]\ttrain-auc:0.959461\tval-auc:0.847214\n",
      "[2400]\ttrain-auc:0.967734\tval-auc:0.849412\n",
      "[2800]\ttrain-auc:0.974454\tval-auc:0.851402\n",
      "[3200]\ttrain-auc:0.979751\tval-auc:0.853216\n",
      "[3600]\ttrain-auc:0.983976\tval-auc:0.854682\n",
      "[4000]\ttrain-auc:0.987185\tval-auc:0.855325\n",
      "[4400]\ttrain-auc:0.990024\tval-auc:0.856344\n",
      "[4800]\ttrain-auc:0.99213\tval-auc:0.857344\n",
      "[5200]\ttrain-auc:0.993851\tval-auc:0.858219\n",
      "[5600]\ttrain-auc:0.9952\tval-auc:0.858527\n",
      "[6000]\ttrain-auc:0.996337\tval-auc:0.858784\n",
      "[6400]\ttrain-auc:0.997224\tval-auc:0.859049\n",
      "[6800]\ttrain-auc:0.997939\tval-auc:0.859437\n",
      "[7200]\ttrain-auc:0.998522\tval-auc:0.859452\n",
      "[7600]\ttrain-auc:0.998957\tval-auc:0.859653\n",
      "[8000]\ttrain-auc:0.999275\tval-auc:0.859841\n",
      "[8400]\ttrain-auc:0.999497\tval-auc:0.859754\n",
      "Stopping. Best iteration:\n",
      "[7957]\ttrain-auc:0.999243\tval-auc:0.859993\n",
      "\n",
      "CV score: 0.86858 \n"
     ]
    }
   ],
   "source": [
    "max_iter = 10\n",
    "folds = StratifiedKFold(n_splits=10, random_state=1991)\n",
    "oof = np.zeros(len(train))\n",
    "predictions = np.zeros(len(test))\n",
    "feature_importance_df = pd.DataFrame()\n",
    "\n",
    "for fold_, (trn_idx, val_idx) in enumerate(folds.split(train.values, target.values)):\n",
    "    print(\"fold n°{}\".format(fold_))\n",
    "    X_trn, y_trn = train.iloc[trn_idx][features], target.iloc[trn_idx]\n",
    "    X_val, y_val = train.iloc[val_idx][features], target.iloc[val_idx]\n",
    "    X_trn = xgb.DMatrix(X_trn, label=y_trn)\n",
    "    X_val = xgb.DMatrix(X_val, label=y_val)\n",
    "    X_test = xgb.DMatrix(test[features])\n",
    "    clf = xgb.train(params, X_trn, 50000, [(X_trn,'train'),(X_val,'val')], verbose_eval = 400, early_stopping_rounds=800)\n",
    "    gc.collect()\n",
    "    oof[val_idx] = clf.predict(X_val)\n",
    "    \n",
    "    fold_importance_df = pd.DataFrame({\"importance\": clf.get_fscore(), \"fold\": fold_ + 1}).reset_index().rename({'index': 'feature'}, axis=1)\n",
    "    feature_importance_df = pd.concat([feature_importance_df, fold_importance_df], axis=0)\n",
    "\n",
    "    current_pred = clf.predict(X_test)\n",
    "    predictions += current_pred / min(folds.n_splits, max_iter)\n",
    "\n",
    "\n",
    "print(\"CV score: {:<8.5f}\".format(roc_auc_score(target, oof)))"
   ]
  },
  {
   "cell_type": "code",
   "execution_count": 19,
   "metadata": {
    "collapsed": true
   },
   "outputs": [],
   "source": [
    "feature_importance_df.to_csv('feat_importance.csv', index=False)"
   ]
  },
  {
   "cell_type": "code",
   "execution_count": 20,
   "metadata": {},
   "outputs": [
    {
     "data": {
      "text/plain": [
       "<matplotlib.axes._subplots.AxesSubplot at 0x7fe403f77400>"
      ]
     },
     "execution_count": 20,
     "metadata": {},
     "output_type": "execute_result"
    },
    {
     "data": {
      "image/png": "[encoded data removed]",
      "text/plain": [
       "<Figure size 720x720 with 1 Axes>"
      ]
     },
     "metadata": {
      "needs_background": "light"
     },
     "output_type": "display_data"
    }
   ],
   "source": [
    "fi = feature_importance_df.groupby('feature')['importance'].mean().sort_values()\n",
    "plt.figure(figsize=(10,10))\n",
    "fi[-20:].plot.barh(fontsize=14)"
   ]
  },
  {
   "cell_type": "code",
   "execution_count": 21,
   "metadata": {},
   "outputs": [
    {
     "name": "stdout",
     "output_type": "stream",
     "text": [
      "Total no. of useful features are: 4319\n"
     ]
    }
   ],
   "source": [
    "print(f\"Total no. of useful features are: {(fi != 0).sum()}\")"
   ]
  },
  {
   "cell_type": "code",
   "execution_count": 22,
   "metadata": {},
   "outputs": [
    {
     "data": {
      "image/png": "[encoded data removed]",
      "text/plain": [
       "<Figure size 432x288 with 1 Axes>"
      ]
     },
     "metadata": {
      "needs_background": "light"
     },
     "output_type": "display_data"
    }
   ],
   "source": [
    "_ = pd.Series(predictions).plot(kind='density')"
   ]
  },
  {
   "cell_type": "code",
   "execution_count": 23,
   "metadata": {
    "collapsed": true
   },
   "outputs": [],
   "source": [
    "oof_df = pd.DataFrame()\n",
    "oof_df['patient_id'] = comp_train['patient_id']\n",
    "oof_df[TARGET_COL] = oof\n",
    "oof_df.to_csv(OUTPUT_PATH + 'oofs_xgb.csv', index=False)"
   ]
  },
  {
   "cell_type": "code",
   "execution_count": 24,
   "metadata": {},
   "outputs": [
    {
     "data": {
      "text/html": [
       "<div>\n",
       "<style scoped>\n",
       "    .dataframe tbody tr th:only-of-type {\n",
       "        vertical-align: middle;\n",
       "    }\n",
       "\n",
       "    .dataframe tbody tr th {\n",
       "        vertical-align: top;\n",
       "    }\n",
       "\n",
       "    .dataframe thead th {\n",
       "        text-align: right;\n",
       "    }\n",
       "</style>\n",
       "<table border=\"1\" class=\"dataframe\">\n",
       "  <thead>\n",
       "    <tr style=\"text-align: right;\">\n",
       "      <th></th>\n",
       "      <th>patient_id</th>\n",
       "      <th>outcome_flag</th>\n",
       "    </tr>\n",
       "  </thead>\n",
       "  <tbody>\n",
       "    <tr>\n",
       "      <th>0</th>\n",
       "      <td>patient_2</td>\n",
       "      <td>0.066722</td>\n",
       "    </tr>\n",
       "    <tr>\n",
       "      <th>1</th>\n",
       "      <td>patient_3</td>\n",
       "      <td>0.193054</td>\n",
       "    </tr>\n",
       "    <tr>\n",
       "      <th>2</th>\n",
       "      <td>patient_5</td>\n",
       "      <td>0.589803</td>\n",
       "    </tr>\n",
       "    <tr>\n",
       "      <th>3</th>\n",
       "      <td>patient_8</td>\n",
       "      <td>0.002628</td>\n",
       "    </tr>\n",
       "    <tr>\n",
       "      <th>4</th>\n",
       "      <td>patient_14</td>\n",
       "      <td>0.515553</td>\n",
       "    </tr>\n",
       "    <tr>\n",
       "      <th>5</th>\n",
       "      <td>patient_15</td>\n",
       "      <td>0.106333</td>\n",
       "    </tr>\n",
       "    <tr>\n",
       "      <th>6</th>\n",
       "      <td>patient_16</td>\n",
       "      <td>0.005624</td>\n",
       "    </tr>\n",
       "    <tr>\n",
       "      <th>7</th>\n",
       "      <td>patient_33</td>\n",
       "      <td>0.143846</td>\n",
       "    </tr>\n",
       "    <tr>\n",
       "      <th>8</th>\n",
       "      <td>patient_38</td>\n",
       "      <td>0.006021</td>\n",
       "    </tr>\n",
       "    <tr>\n",
       "      <th>9</th>\n",
       "      <td>patient_41</td>\n",
       "      <td>0.161792</td>\n",
       "    </tr>\n",
       "  </tbody>\n",
       "</table>\n",
       "</div>"
      ],
      "text/plain": [
       "   patient_id  outcome_flag\n",
       "0   patient_2      0.066722\n",
       "1   patient_3      0.193054\n",
       "2   patient_5      0.589803\n",
       "3   patient_8      0.002628\n",
       "4  patient_14      0.515553\n",
       "5  patient_15      0.106333\n",
       "6  patient_16      0.005624\n",
       "7  patient_33      0.143846\n",
       "8  patient_38      0.006021\n",
       "9  patient_41      0.161792"
      ]
     },
     "execution_count": 24,
     "metadata": {},
     "output_type": "execute_result"
    }
   ],
   "source": [
    "sub_df = pd.DataFrame()\n",
    "sub_df[ID_COL] = comp_test[ID_COL]\n",
    "sub_df[TARGET_COL] = predictions\n",
    "sub_df[[TARGET_COL]].to_excel(OUTPUT_PATH + 'preds_xgb.xlsx', index=False)\n",
    "sub_df.head(10)"
   ]
  },
  {
   "cell_type": "code",
   "execution_count": 25,
   "metadata": {},
   "outputs": [
    {
     "name": "stdout",
     "output_type": "stream",
     "text": [
      "DONE-------------- !!!\n"
     ]
    }
   ],
   "source": [
    "print(\"DONE-------------- !!!\")"
   ]
  },
  {
   "cell_type": "code",
   "execution_count": null,
   "metadata": {
    "collapsed": true
   },
   "outputs": [],
   "source": []
  }
 ],
 "metadata": {
  "kernelspec": {
   "display_name": "Python 3",
   "language": "python",
   "name": "python3"
  },
  "language_info": {
   "codemirror_mode": {
    "name": "ipython",
    "version": 3
   },
   "file_extension": ".py",
   "mimetype": "text/x-python",
   "name": "python",
   "nbconvert_exporter": "python",
   "pygments_lexer": "ipython3",
   "version": "3.6.3"
  }
 },
 "nbformat": 4,
 "nbformat_minor": 1
}
