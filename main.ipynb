{
 "cells": [
  {
   "cell_type": "code",
   "execution_count": 1,
   "metadata": {
    "collapsed": true
   },
   "outputs": [],
   "source": [
    "def reduce_mem_usage_colwise(col):\n",
    "    numerics = ['int16', 'int32', 'int64', 'float16', 'float32', 'float64']\n",
    "    col_type = col.dtypes\n",
    "    if col_type in numerics:\n",
    "        c_min = col.min()\n",
    "        c_max = col.max()\n",
    "        if str(col_type)[:3] == 'int':\n",
    "            if c_min > np.iinfo(np.int8).min and c_max < np.iinfo(np.int8).max:\n",
    "                col = col.astype(np.int8)\n",
    "            elif c_min > np.iinfo(np.int16).min and c_max < np.iinfo(np.int16).max:\n",
    "                col = col.astype(np.int16)\n",
    "            elif c_min > np.iinfo(np.int32).min and c_max < np.iinfo(np.int32).max:\n",
    "                col = col.astype(np.int32)\n",
    "            elif c_min > np.iinfo(np.int64).min and c_max < np.iinfo(np.int64).max:\n",
    "                col = col.astype(np.int64)  \n",
    "        else:\n",
    "            if c_min > np.finfo(np.float16).min and c_max < np.finfo(np.float16).max:\n",
    "                col = col.astype(np.float16)\n",
    "            elif c_min > np.finfo(np.float32).min and c_max < np.finfo(np.float32).max:\n",
    "                col = col.astype(np.float32)\n",
    "            else:\n",
    "                col = col.astype(np.float64)       \n",
    "    return col"
   ]
  },
  {
   "cell_type": "code",
   "execution_count": 2,
   "metadata": {
    "collapsed": true
   },
   "outputs": [],
   "source": [
    "import pandas as pd\n",
    "import matplotlib.pyplot as plt\n",
    "import numpy as np\n",
    "\n",
    "from sklearn.model_selection import StratifiedKFold\n",
    "from sklearn.metrics import roc_auc_score\n",
    "\n",
    "import lightgbm as lgb\n",
    "\n",
    "import multiprocessing as mp\n",
    "from functools import partial\n",
    "import gc\n",
    "import time\n",
    "\n",
    "import warnings\n",
    "warnings.simplefilter(action='ignore', category=FutureWarning)"
   ]
  },
  {
   "cell_type": "code",
   "execution_count": 3,
   "metadata": {},
   "outputs": [
    {
     "name": "stdout",
     "output_type": "stream",
     "text": [
      "CPU times: user 19.2 s, sys: 1.92 s, total: 21.1 s\n",
      "Wall time: 21.6 s\n"
     ]
    }
   ],
   "source": [
    "%%time\n",
    "DATA_PATH = 'Data/'\n",
    "OUTPUT_PATH = 'Output/'\n",
    "\n",
    "oof_prev = pd.read_csv(OUTPUT_PATH + 'oofs_lgbm.csv')\n",
    "preds_prev = pd.read_excel(OUTPUT_PATH + 'preds_lgbm.xlsx')\n",
    "\n",
    "train = pd.read_csv(DATA_PATH + 'train_data.csv')\n",
    "train_labels = pd.read_csv(DATA_PATH + 'train_labels.csv')\n",
    "test = pd.read_csv(DATA_PATH + 'test_data.csv')\n",
    "sample_sub = pd.read_csv(DATA_PATH + 'Sample Submission.csv')"
   ]
  },
  {
   "cell_type": "code",
   "execution_count": 4,
   "metadata": {
    "collapsed": true
   },
   "outputs": [],
   "source": [
    "train = pd.merge(train, train_labels, on = 'patient_id', how='left')\n",
    "df = pd.concat([train, test])\n",
    "df = df.drop_duplicates()\n",
    "comp_train = train_labels.copy()\n",
    "comp_test = sample_sub.copy()"
   ]
  },
  {
   "cell_type": "code",
   "execution_count": 5,
   "metadata": {
    "collapsed": true
   },
   "outputs": [],
   "source": [
    "df = df[df['event_time'] < 180]"
   ]
  },
  {
   "cell_type": "code",
   "execution_count": 6,
   "metadata": {
    "collapsed": true
   },
   "outputs": [],
   "source": [
    "df['made_payment'] = pd.qcut(df['patient_payment'], 20000, duplicates='drop', labels=False).astype('str')"
   ]
  },
  {
   "cell_type": "code",
   "execution_count": 7,
   "metadata": {},
   "outputs": [
    {
     "name": "stdout",
     "output_type": "stream",
     "text": [
      "CPU times: user 11.3 s, sys: 960 ms, total: 12.2 s\n",
      "Wall time: 12.2 s\n"
     ]
    }
   ],
   "source": [
    "%%time\n",
    "for c in ['event_name', 'plan_type', 'specialty', 'made_payment']:\n",
    "    recency = df.groupby(c).apply(lambda x: x.groupby('patient_id')['event_time'].min()).unstack().T.reset_index()\n",
    "    recency.columns = [col + '_' + c if col != 'patient_id' else 'patient_id' for col in recency.columns]\n",
    "    comp_train = pd.merge(comp_train, recency, on = 'patient_id', how='left')\n",
    "    comp_test = pd.merge(comp_test, recency, on = 'patient_id', how='left')"
   ]
  },
  {
   "cell_type": "code",
   "execution_count": 8,
   "metadata": {
    "collapsed": true
   },
   "outputs": [],
   "source": [
    "comp_train['prev_preds'] = oof_prev['outcome_flag']\n",
    "comp_test['prev_preds'] = preds_prev['outcome_flag']"
   ]
  },
  {
   "cell_type": "code",
   "execution_count": 9,
   "metadata": {
    "collapsed": true
   },
   "outputs": [],
   "source": [
    "comp_train = comp_train.apply(lambda x: reduce_mem_usage_colwise(x))\n",
    "comp_test = comp_test.apply(lambda x: reduce_mem_usage_colwise(x))"
   ]
  },
  {
   "cell_type": "code",
   "execution_count": 10,
   "metadata": {},
   "outputs": [
    {
     "data": {
      "text/plain": [
       "14350"
      ]
     },
     "execution_count": 10,
     "metadata": {},
     "output_type": "execute_result"
    }
   ],
   "source": [
    "del train, test, df, recency, oof_prev, preds_prev, train_labels, sample_sub\n",
    "gc.collect()"
   ]
  },
  {
   "cell_type": "code",
   "execution_count": 11,
   "metadata": {},
   "outputs": [
    {
     "name": "stdout",
     "output_type": "stream",
     "text": [
      "2106\n"
     ]
    },
    {
     "data": {
      "text/plain": [
       "2107"
      ]
     },
     "execution_count": 11,
     "metadata": {},
     "output_type": "execute_result"
    }
   ],
   "source": [
    "ID_COL, TARGET_COL = 'patient_id', 'outcome_flag'\n",
    "features = [c for c in comp_train if c not in [ID_COL, TARGET_COL]]\n",
    "target = comp_train[TARGET_COL]\n",
    "features = comp_train[features].isnull().sum().sort_values(ascending=False)[400:].index.tolist()\n",
    "print(len(features))\n",
    "to_drop_cols = [c for c in comp_train.columns if c not in features]\n",
    "to_drop_cols.remove(ID_COL)\n",
    "comp_train.drop(to_drop_cols, axis=1, inplace=True)\n",
    "comp_test.drop(to_drop_cols, axis=1, inplace=True)\n",
    "comp_train.shape[1]"
   ]
  },
  {
   "cell_type": "code",
   "execution_count": 12,
   "metadata": {},
   "outputs": [
    {
     "data": {
      "text/plain": [
       "0"
      ]
     },
     "execution_count": 12,
     "metadata": {},
     "output_type": "execute_result"
    }
   ],
   "source": [
    "gc.collect()"
   ]
  },
  {
   "cell_type": "code",
   "execution_count": 13,
   "metadata": {
    "collapsed": true
   },
   "outputs": [],
   "source": [
    "param = {'num_leaves': 5000,\n",
    "         'min_data_in_leaf': 220, \n",
    "         'objective':'binary',\n",
    "         'max_depth': -1,\n",
    "         'learning_rate': 0.005,\n",
    "         \"boosting\": \"gbdt\",\n",
    "         \"feature_fraction\": 0.22,\n",
    "         \"metric\": 'auc',\n",
    "         \"lambda_l1\": 2,\n",
    "         \"lambda_l2\": 0.6,\n",
    "         \"random_state\": 6,\n",
    "         \"verbosity\": -1,\n",
    "         'scale_pos_weight': 1.15}"
   ]
  },
  {
   "cell_type": "code",
   "execution_count": 14,
   "metadata": {},
   "outputs": [
    {
     "name": "stdout",
     "output_type": "stream",
     "text": [
      "fold n°0\n",
      "Training until validation scores don't improve for 800 rounds\n",
      "[400]\ttraining's auc: 0.879698\tvalid_1's auc: 0.82273\n",
      "[800]\ttraining's auc: 0.907136\tvalid_1's auc: 0.835588\n",
      "[1200]\ttraining's auc: 0.927749\tvalid_1's auc: 0.842616\n",
      "[1600]\ttraining's auc: 0.94402\tvalid_1's auc: 0.845841\n",
      "[2000]\ttraining's auc: 0.9572\tvalid_1's auc: 0.847337\n",
      "[2400]\ttraining's auc: 0.967631\tvalid_1's auc: 0.847716\n",
      "[2800]\ttraining's auc: 0.975899\tvalid_1's auc: 0.846658\n",
      "[3200]\ttraining's auc: 0.982191\tvalid_1's auc: 0.845875\n",
      "Early stopping, best iteration is:\n",
      "[2493]\ttraining's auc: 0.96976\tvalid_1's auc: 0.847925\n",
      "fold n°1\n",
      "Training until validation scores don't improve for 800 rounds\n",
      "[400]\ttraining's auc: 0.879922\tvalid_1's auc: 0.839042\n",
      "[800]\ttraining's auc: 0.906276\tvalid_1's auc: 0.848395\n",
      "[1200]\ttraining's auc: 0.926625\tvalid_1's auc: 0.853153\n",
      "[1600]\ttraining's auc: 0.943314\tvalid_1's auc: 0.855595\n",
      "[2000]\ttraining's auc: 0.956415\tvalid_1's auc: 0.857289\n",
      "[2400]\ttraining's auc: 0.966624\tvalid_1's auc: 0.859026\n",
      "[2800]\ttraining's auc: 0.974857\tvalid_1's auc: 0.860018\n",
      "[3200]\ttraining's auc: 0.981168\tvalid_1's auc: 0.860709\n",
      "[3600]\ttraining's auc: 0.986098\tvalid_1's auc: 0.861164\n",
      "[4000]\ttraining's auc: 0.989809\tvalid_1's auc: 0.861511\n",
      "[4400]\ttraining's auc: 0.992598\tvalid_1's auc: 0.861958\n",
      "[4800]\ttraining's auc: 0.99459\tvalid_1's auc: 0.862351\n",
      "[5200]\ttraining's auc: 0.996087\tvalid_1's auc: 0.86205\n",
      "Early stopping, best iteration is:\n",
      "[4723]\ttraining's auc: 0.99425\tvalid_1's auc: 0.86242\n",
      "fold n°2\n",
      "Training until validation scores don't improve for 800 rounds\n",
      "[400]\ttraining's auc: 0.879769\tvalid_1's auc: 0.823398\n",
      "[800]\ttraining's auc: 0.906636\tvalid_1's auc: 0.835643\n",
      "[1200]\ttraining's auc: 0.927601\tvalid_1's auc: 0.84184\n",
      "[1600]\ttraining's auc: 0.944315\tvalid_1's auc: 0.846036\n",
      "[2000]\ttraining's auc: 0.957421\tvalid_1's auc: 0.848054\n",
      "[2400]\ttraining's auc: 0.967869\tvalid_1's auc: 0.849951\n",
      "[2800]\ttraining's auc: 0.976073\tvalid_1's auc: 0.850568\n",
      "[3200]\ttraining's auc: 0.982157\tvalid_1's auc: 0.850886\n",
      "[3600]\ttraining's auc: 0.986849\tvalid_1's auc: 0.850324\n",
      "Early stopping, best iteration is:\n",
      "[2964]\ttraining's auc: 0.978818\tvalid_1's auc: 0.851126\n",
      "fold n°3\n",
      "Training until validation scores don't improve for 800 rounds\n",
      "[400]\ttraining's auc: 0.879752\tvalid_1's auc: 0.83042\n",
      "[800]\ttraining's auc: 0.906826\tvalid_1's auc: 0.84186\n",
      "[1200]\ttraining's auc: 0.928181\tvalid_1's auc: 0.847248\n",
      "[1600]\ttraining's auc: 0.94465\tvalid_1's auc: 0.849037\n",
      "[2000]\ttraining's auc: 0.957931\tvalid_1's auc: 0.850427\n",
      "[2400]\ttraining's auc: 0.967983\tvalid_1's auc: 0.850651\n",
      "[2800]\ttraining's auc: 0.976136\tvalid_1's auc: 0.850808\n",
      "Early stopping, best iteration is:\n",
      "[2249]\ttraining's auc: 0.964496\tvalid_1's auc: 0.851066\n",
      "fold n°4\n",
      "Training until validation scores don't improve for 800 rounds\n",
      "[400]\ttraining's auc: 0.879926\tvalid_1's auc: 0.823037\n",
      "[800]\ttraining's auc: 0.907812\tvalid_1's auc: 0.834318\n",
      "[1200]\ttraining's auc: 0.928726\tvalid_1's auc: 0.840527\n",
      "[1600]\ttraining's auc: 0.945\tvalid_1's auc: 0.844259\n",
      "[2000]\ttraining's auc: 0.958119\tvalid_1's auc: 0.846122\n",
      "[2400]\ttraining's auc: 0.968223\tvalid_1's auc: 0.846833\n",
      "[2800]\ttraining's auc: 0.976242\tvalid_1's auc: 0.847294\n",
      "[3200]\ttraining's auc: 0.982352\tvalid_1's auc: 0.847475\n",
      "[3600]\ttraining's auc: 0.98708\tvalid_1's auc: 0.846899\n",
      "[4000]\ttraining's auc: 0.990594\tvalid_1's auc: 0.846348\n",
      "Early stopping, best iteration is:\n",
      "[3229]\ttraining's auc: 0.982735\tvalid_1's auc: 0.847635\n",
      "fold n°5\n",
      "Training until validation scores don't improve for 800 rounds\n",
      "[400]\ttraining's auc: 0.880554\tvalid_1's auc: 0.79495\n",
      "[800]\ttraining's auc: 0.908672\tvalid_1's auc: 0.810548\n",
      "[1200]\ttraining's auc: 0.929216\tvalid_1's auc: 0.817261\n",
      "[1600]\ttraining's auc: 0.945966\tvalid_1's auc: 0.82179\n",
      "[2000]\ttraining's auc: 0.959067\tvalid_1's auc: 0.824564\n",
      "[2400]\ttraining's auc: 0.9693\tvalid_1's auc: 0.825662\n",
      "[2800]\ttraining's auc: 0.977241\tvalid_1's auc: 0.826164\n",
      "[3200]\ttraining's auc: 0.983156\tvalid_1's auc: 0.825289\n",
      "Early stopping, best iteration is:\n",
      "[2639]\ttraining's auc: 0.974349\tvalid_1's auc: 0.826276\n",
      "fold n°6\n",
      "Training until validation scores don't improve for 800 rounds\n",
      "[400]\ttraining's auc: 0.880186\tvalid_1's auc: 0.833278\n",
      "[800]\ttraining's auc: 0.908946\tvalid_1's auc: 0.839752\n",
      "[1200]\ttraining's auc: 0.930055\tvalid_1's auc: 0.842629\n",
      "[1600]\ttraining's auc: 0.946281\tvalid_1's auc: 0.84357\n",
      "[2000]\ttraining's auc: 0.959091\tvalid_1's auc: 0.843318\n",
      "[2400]\ttraining's auc: 0.969191\tvalid_1's auc: 0.843653\n",
      "[2800]\ttraining's auc: 0.977153\tvalid_1's auc: 0.844035\n",
      "[3200]\ttraining's auc: 0.983163\tvalid_1's auc: 0.843762\n",
      "Early stopping, best iteration is:\n",
      "[2642]\ttraining's auc: 0.974221\tvalid_1's auc: 0.844172\n",
      "fold n°7\n",
      "Training until validation scores don't improve for 800 rounds\n",
      "[400]\ttraining's auc: 0.881009\tvalid_1's auc: 0.814474\n",
      "[800]\ttraining's auc: 0.909397\tvalid_1's auc: 0.826895\n",
      "[1200]\ttraining's auc: 0.929685\tvalid_1's auc: 0.833465\n",
      "[1600]\ttraining's auc: 0.94564\tvalid_1's auc: 0.837065\n",
      "[2000]\ttraining's auc: 0.958704\tvalid_1's auc: 0.839294\n",
      "[2400]\ttraining's auc: 0.968891\tvalid_1's auc: 0.841976\n",
      "[2800]\ttraining's auc: 0.976773\tvalid_1's auc: 0.843404\n",
      "[3200]\ttraining's auc: 0.982746\tvalid_1's auc: 0.844205\n",
      "[3600]\ttraining's auc: 0.987332\tvalid_1's auc: 0.845057\n",
      "[4000]\ttraining's auc: 0.990795\tvalid_1's auc: 0.845475\n",
      "[4400]\ttraining's auc: 0.993352\tvalid_1's auc: 0.845757\n",
      "[4800]\ttraining's auc: 0.995178\tvalid_1's auc: 0.845786\n",
      "[5200]\ttraining's auc: 0.996524\tvalid_1's auc: 0.845627\n",
      "[5600]\ttraining's auc: 0.997465\tvalid_1's auc: 0.845276\n",
      "Early stopping, best iteration is:\n",
      "[4813]\ttraining's auc: 0.99523\tvalid_1's auc: 0.845858\n",
      "fold n°8\n",
      "Training until validation scores don't improve for 800 rounds\n",
      "[400]\ttraining's auc: 0.881749\tvalid_1's auc: 0.834473\n",
      "[800]\ttraining's auc: 0.908031\tvalid_1's auc: 0.848168\n",
      "[1200]\ttraining's auc: 0.929601\tvalid_1's auc: 0.855904\n",
      "[1600]\ttraining's auc: 0.946342\tvalid_1's auc: 0.85944\n",
      "[2000]\ttraining's auc: 0.959366\tvalid_1's auc: 0.861053\n",
      "[2400]\ttraining's auc: 0.969583\tvalid_1's auc: 0.861621\n",
      "[2800]\ttraining's auc: 0.977485\tvalid_1's auc: 0.861574\n",
      "[3200]\ttraining's auc: 0.98347\tvalid_1's auc: 0.861396\n",
      "Early stopping, best iteration is:\n",
      "[2611]\ttraining's auc: 0.974032\tvalid_1's auc: 0.861802\n",
      "fold n°9\n",
      "Training until validation scores don't improve for 800 rounds\n",
      "[400]\ttraining's auc: 0.881941\tvalid_1's auc: 0.802691\n",
      "[800]\ttraining's auc: 0.910921\tvalid_1's auc: 0.814312\n",
      "[1200]\ttraining's auc: 0.931786\tvalid_1's auc: 0.821299\n",
      "[1600]\ttraining's auc: 0.94849\tvalid_1's auc: 0.825683\n",
      "[2000]\ttraining's auc: 0.961144\tvalid_1's auc: 0.82788\n",
      "[2400]\ttraining's auc: 0.971153\tvalid_1's auc: 0.828934\n",
      "[2800]\ttraining's auc: 0.978748\tvalid_1's auc: 0.829574\n",
      "[3200]\ttraining's auc: 0.984694\tvalid_1's auc: 0.829505\n",
      "[3600]\ttraining's auc: 0.989105\tvalid_1's auc: 0.828644\n",
      "Early stopping, best iteration is:\n",
      "[3142]\ttraining's auc: 0.983964\tvalid_1's auc: 0.82975\n",
      "CV score: 0.84558 \n"
     ]
    }
   ],
   "source": [
    "max_iter = 10\n",
    "folds = StratifiedKFold(n_splits=max_iter, random_state=1991)\n",
    "oof = np.zeros(len(comp_train))\n",
    "categorical_columns = None\n",
    "predictions_test = np.zeros(len(comp_test))\n",
    "feature_importance_df = pd.DataFrame()\n",
    "\n",
    "for fold_, (trn_idx, val_idx) in enumerate(folds.split(comp_train.values, target)):\n",
    "    print(\"fold n°{}\".format(fold_))\n",
    "    X_trn, y_trn = comp_train.iloc[trn_idx][features], target.iloc[trn_idx]\n",
    "    X_val, y_val = comp_train.iloc[val_idx][features], target.iloc[val_idx]\n",
    "    X_comp_test = comp_test[features]\n",
    "    trn_data = lgb.Dataset(X_trn, y_trn, categorical_feature = categorical_columns)\n",
    "    val_data = lgb.Dataset(X_val, y_val, categorical_feature = categorical_columns)\n",
    "    num_round = 500000\n",
    "    clf = lgb.train(param, trn_data, num_round, valid_sets = [trn_data, val_data], verbose_eval=400, early_stopping_rounds = 800)\n",
    "    oof[val_idx] = clf.predict(X_val, num_iteration=clf.best_iteration)\n",
    "    \n",
    "    del trn_data, val_data, X_trn, X_val, y_trn, y_val\n",
    "    gc.collect()\n",
    "    \n",
    "    fold_importance_df = pd.DataFrame()\n",
    "    fold_importance_df[\"feature\"] = features\n",
    "    fold_importance_df[\"importance\"] = clf.feature_importance(importance_type='gain')\n",
    "    fold_importance_df[\"fold\"] = fold_ + 1\n",
    "    feature_importance_df = pd.concat([feature_importance_df, fold_importance_df], axis=0)\n",
    "\n",
    "    current_comp_test_pred = clf.predict(X_comp_test, num_iteration=clf.best_iteration)\n",
    "    predictions_test += current_comp_test_pred / folds.n_splits\n",
    "    \n",
    "    del X_comp_test, current_comp_test_pred, clf\n",
    "    \n",
    "    gc.collect()\n",
    "  \n",
    "print(\"CV score: {:<8.5f}\".format(roc_auc_score(target, oof)))"
   ]
  },
  {
   "cell_type": "code",
   "execution_count": 15,
   "metadata": {},
   "outputs": [
    {
     "data": {
      "text/plain": [
       "<matplotlib.axes._subplots.AxesSubplot at 0x7f72e10be5c0>"
      ]
     },
     "execution_count": 15,
     "metadata": {},
     "output_type": "execute_result"
    },
    {
     "data": {
      "image/png": "[encoded data removed]",
      "text/plain": [
       "<Figure size 432x288 with 1 Axes>"
      ]
     },
     "metadata": {
      "needs_background": "light"
     },
     "output_type": "display_data"
    }
   ],
   "source": [
    "pd.Series(predictions_test).plot(kind='density')"
   ]
  },
  {
   "cell_type": "code",
   "execution_count": 16,
   "metadata": {},
   "outputs": [
    {
     "data": {
      "text/plain": [
       "<matplotlib.axes._subplots.AxesSubplot at 0x7f7302b1ae80>"
      ]
     },
     "execution_count": 16,
     "metadata": {},
     "output_type": "execute_result"
    },
    {
     "data": {
      "image/png": "[encoded data removed]",
      "text/plain": [
       "<Figure size 720x720 with 1 Axes>"
      ]
     },
     "metadata": {
      "needs_background": "light"
     },
     "output_type": "display_data"
    }
   ],
   "source": [
    "fi = feature_importance_df.groupby('feature')['importance'].mean().sort_values()\n",
    "plt.figure(figsize=(10,10))\n",
    "fi[-20:].plot.barh(fontsize=14)"
   ]
  },
  {
   "cell_type": "code",
   "execution_count": 17,
   "metadata": {
    "collapsed": true
   },
   "outputs": [],
   "source": [
    "oof_df = pd.DataFrame()\n",
    "oof_df['patient_id'] = comp_train['patient_id']\n",
    "oof_df[TARGET_COL] = oof\n",
    "oof_df.to_csv(OUTPUT_PATH + 'oof_lgbm_3.csv', index=False)"
   ]
  },
  {
   "cell_type": "code",
   "execution_count": 18,
   "metadata": {},
   "outputs": [
    {
     "data": {
      "text/html": [
       "<div>\n",
       "<style scoped>\n",
       "    .dataframe tbody tr th:only-of-type {\n",
       "        vertical-align: middle;\n",
       "    }\n",
       "\n",
       "    .dataframe tbody tr th {\n",
       "        vertical-align: top;\n",
       "    }\n",
       "\n",
       "    .dataframe thead th {\n",
       "        text-align: right;\n",
       "    }\n",
       "</style>\n",
       "<table border=\"1\" class=\"dataframe\">\n",
       "  <thead>\n",
       "    <tr style=\"text-align: right;\">\n",
       "      <th></th>\n",
       "      <th>patient_id</th>\n",
       "      <th>outcome_flag</th>\n",
       "    </tr>\n",
       "  </thead>\n",
       "  <tbody>\n",
       "    <tr>\n",
       "      <th>0</th>\n",
       "      <td>patient_2</td>\n",
       "      <td>0.190202</td>\n",
       "    </tr>\n",
       "    <tr>\n",
       "      <th>1</th>\n",
       "      <td>patient_3</td>\n",
       "      <td>0.154327</td>\n",
       "    </tr>\n",
       "    <tr>\n",
       "      <th>2</th>\n",
       "      <td>patient_5</td>\n",
       "      <td>0.725220</td>\n",
       "    </tr>\n",
       "    <tr>\n",
       "      <th>3</th>\n",
       "      <td>patient_8</td>\n",
       "      <td>0.012547</td>\n",
       "    </tr>\n",
       "    <tr>\n",
       "      <th>4</th>\n",
       "      <td>patient_14</td>\n",
       "      <td>0.403064</td>\n",
       "    </tr>\n",
       "    <tr>\n",
       "      <th>5</th>\n",
       "      <td>patient_15</td>\n",
       "      <td>0.056895</td>\n",
       "    </tr>\n",
       "    <tr>\n",
       "      <th>6</th>\n",
       "      <td>patient_16</td>\n",
       "      <td>0.021564</td>\n",
       "    </tr>\n",
       "    <tr>\n",
       "      <th>7</th>\n",
       "      <td>patient_33</td>\n",
       "      <td>0.169340</td>\n",
       "    </tr>\n",
       "    <tr>\n",
       "      <th>8</th>\n",
       "      <td>patient_38</td>\n",
       "      <td>0.043568</td>\n",
       "    </tr>\n",
       "    <tr>\n",
       "      <th>9</th>\n",
       "      <td>patient_41</td>\n",
       "      <td>0.235209</td>\n",
       "    </tr>\n",
       "  </tbody>\n",
       "</table>\n",
       "</div>"
      ],
      "text/plain": [
       "   patient_id  outcome_flag\n",
       "0   patient_2      0.190202\n",
       "1   patient_3      0.154327\n",
       "2   patient_5      0.725220\n",
       "3   patient_8      0.012547\n",
       "4  patient_14      0.403064\n",
       "5  patient_15      0.056895\n",
       "6  patient_16      0.021564\n",
       "7  patient_33      0.169340\n",
       "8  patient_38      0.043568\n",
       "9  patient_41      0.235209"
      ]
     },
     "execution_count": 18,
     "metadata": {},
     "output_type": "execute_result"
    }
   ],
   "source": [
    "sub_df = pd.DataFrame()\n",
    "sub_df[ID_COL] = comp_test[ID_COL]\n",
    "sub_df[TARGET_COL] = predictions_test\n",
    "sub_df[[TARGET_COL]].to_excel(OUTPUT_PATH + 'preds_lgbm_3.xlsx', index=False)\n",
    "sub_df.head(10)"
   ]
  },
  {
   "cell_type": "code",
   "execution_count": null,
   "metadata": {
    "collapsed": true
   },
   "outputs": [],
   "source": []
  }
 ],
 "metadata": {
  "kernelspec": {
   "display_name": "Python 3",
   "language": "python",
   "name": "python3"
  },
  "language_info": {
   "codemirror_mode": {
    "name": "ipython",
    "version": 3
   },
   "file_extension": ".py",
   "mimetype": "text/x-python",
   "name": "python",
   "nbconvert_exporter": "python",
   "pygments_lexer": "ipython3",
   "version": "3.6.3"
  }
 },
 "nbformat": 4,
 "nbformat_minor": 1
}
